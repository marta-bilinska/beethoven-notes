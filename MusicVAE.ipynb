{
  "nbformat": 4,
  "nbformat_minor": 0,
  "metadata": {
    "colab": {
      "name": "MusicVAE.ipynb",
      "provenance": [],
      "collapsed_sections": []
    },
    "kernelspec": {
      "name": "python3",
      "display_name": "Python 3"
    },
    "language_info": {
      "name": "python"
    }
  },
  "cells": [
    {
      "cell_type": "markdown",
      "source": [
        "# MusicVAE: A Hierarchical Latent Vector Model for Learning Long-Term Structure in Music.\n"
      ],
      "metadata": {
        "id": "65cwdYKAQKUv"
      }
    },
    {
      "cell_type": "markdown",
      "source": [
        "# Environment Setup\n",
        "This chunk of code is taken from the original MusicVAE documentation."
      ],
      "metadata": {
        "id": "I7wBTFmEO0_e"
      }
    },
    {
      "cell_type": "code",
      "execution_count": null,
      "metadata": {
        "colab": {
          "base_uri": "https://localhost:8080/"
        },
        "id": "hpJi0vmROnOz",
        "outputId": "312b3717-7de6-4c4e-9798-fa880259fa2c"
      },
      "outputs": [
        {
          "output_type": "stream",
          "name": "stdout",
          "text": [
            "Installing dependencies...\n",
            "Selecting previously unselected package fluid-soundfont-gm.\n",
            "(Reading database ... 155229 files and directories currently installed.)\n",
            "Preparing to unpack .../fluid-soundfont-gm_3.1-5.1_all.deb ...\n",
            "Unpacking fluid-soundfont-gm (3.1-5.1) ...\n",
            "Selecting previously unselected package libfluidsynth1:amd64.\n",
            "Preparing to unpack .../libfluidsynth1_1.1.9-1_amd64.deb ...\n",
            "Unpacking libfluidsynth1:amd64 (1.1.9-1) ...\n",
            "Setting up fluid-soundfont-gm (3.1-5.1) ...\n",
            "Setting up libfluidsynth1:amd64 (1.1.9-1) ...\n",
            "Processing triggers for libc-bin (2.27-3ubuntu1.3) ...\n",
            "/sbin/ldconfig.real: /usr/local/lib/python3.7/dist-packages/ideep4py/lib/libmkldnn.so.0 is not a symbolic link\n",
            "\n",
            "\u001b[K     |████████████████████████████████| 1.4 MB 8.2 MB/s \n",
            "\u001b[K     |████████████████████████████████| 87 kB 9.8 MB/s \n",
            "\u001b[K     |████████████████████████████████| 352 kB 83.1 MB/s \n",
            "\u001b[K     |████████████████████████████████| 5.6 MB 27.2 MB/s \n",
            "\u001b[K     |████████████████████████████████| 69 kB 9.7 MB/s \n",
            "\u001b[K     |████████████████████████████████| 204 kB 54.7 MB/s \n",
            "\u001b[K     |████████████████████████████████| 1.4 MB 49.5 MB/s \n",
            "\u001b[K     |████████████████████████████████| 254 kB 95.2 MB/s \n",
            "\u001b[K     |████████████████████████████████| 210 kB 96.1 MB/s \n",
            "\u001b[K     |████████████████████████████████| 3.6 MB 78.8 MB/s \n",
            "\u001b[K     |████████████████████████████████| 1.6 MB 67.4 MB/s \n",
            "\u001b[K     |████████████████████████████████| 2.3 MB 58.4 MB/s \n",
            "\u001b[K     |████████████████████████████████| 20.2 MB 151.0 MB/s \n",
            "\u001b[K     |████████████████████████████████| 1.1 MB 76.7 MB/s \n",
            "\u001b[K     |████████████████████████████████| 366 kB 101.9 MB/s \n",
            "\u001b[K     |████████████████████████████████| 5.8 MB 22.2 MB/s \n",
            "\u001b[K     |████████████████████████████████| 79 kB 10.2 MB/s \n",
            "\u001b[K     |████████████████████████████████| 367 kB 74.2 MB/s \n",
            "\u001b[K     |████████████████████████████████| 48 kB 6.8 MB/s \n",
            "\u001b[K     |████████████████████████████████| 981 kB 14.6 MB/s \n",
            "\u001b[K     |████████████████████████████████| 191 kB 85.5 MB/s \n",
            "\u001b[K     |████████████████████████████████| 251 kB 79.9 MB/s \n",
            "\u001b[K     |████████████████████████████████| 191 kB 98.0 MB/s \n",
            "\u001b[K     |████████████████████████████████| 178 kB 100.5 MB/s \n",
            "\u001b[?25h  Building wheel for librosa (setup.py) ... \u001b[?25l\u001b[?25hdone\n",
            "  Building wheel for mir-eval (setup.py) ... \u001b[?25l\u001b[?25hdone\n",
            "  Building wheel for pretty-midi (setup.py) ... \u001b[?25l\u001b[?25hdone\n",
            "  Building wheel for pygtrie (setup.py) ... \u001b[?25l\u001b[?25hdone\n",
            "  Building wheel for python-rtmidi (setup.py) ... \u001b[?25l\u001b[?25hdone\n",
            "  Building wheel for bz2file (setup.py) ... \u001b[?25l\u001b[?25hdone\n",
            "Importing libraries and defining some helper functions...\n"
          ]
        },
        {
          "output_type": "stream",
          "name": "stderr",
          "text": [
            "/usr/local/lib/python3.7/dist-packages/librosa/util/decorators.py:9: NumbaDeprecationWarning: An import was requested from a module that has moved location.\n",
            "Import requested from: 'numba.decorators', please update to use 'numba.core.decorators' or pin to Numba version 0.48.0. This alias will not be present in Numba version 0.50.0.\n",
            "  from numba.decorators import jit as optional_jit\n",
            "/usr/local/lib/python3.7/dist-packages/librosa/util/decorators.py:9: NumbaDeprecationWarning: An import was requested from a module that has moved location.\n",
            "Import of 'jit' requested from: 'numba.decorators', please update to use 'numba.core.decorators' or pin to Numba version 0.48.0. This alias will not be present in Numba version 0.50.0.\n",
            "  from numba.decorators import jit as optional_jit\n"
          ]
        },
        {
          "output_type": "stream",
          "name": "stdout",
          "text": [
            "WARNING:tensorflow:From /usr/local/lib/python3.7/dist-packages/tensorflow/python/compat/v2_compat.py:111: disable_resource_variables (from tensorflow.python.ops.variable_scope) is deprecated and will be removed in a future version.\n",
            "Instructions for updating:\n",
            "non-resource variables are not supported in the long term\n",
            "Done\n"
          ]
        }
      ],
      "source": [
        "import glob\n",
        "\n",
        "BASE_DIR = \"gs://download.magenta.tensorflow.org/models/music_vae/colab2\"\n",
        "\n",
        "print('Installing dependencies...')\n",
        "!apt-get update -qq && apt-get install -qq libfluidsynth1 fluid-soundfont-gm build-essential libasound2-dev libjack-dev\n",
        "!pip install -q pyfluidsynth\n",
        "!pip install -qU magenta\n",
        "\n",
        "# Hack to allow python to pick up the newly-installed fluidsynth lib.\n",
        "# This is only needed for the hosted Colab environment.\n",
        "import ctypes.util\n",
        "orig_ctypes_util_find_library = ctypes.util.find_library\n",
        "def proxy_find_library(lib):\n",
        "  if lib == 'fluidsynth':\n",
        "    return 'libfluidsynth.so.1'\n",
        "  else:\n",
        "    return orig_ctypes_util_find_library(lib)\n",
        "ctypes.util.find_library = proxy_find_library\n",
        "\n",
        "print('Importing libraries and defining some helper functions...')\n",
        "from google.colab import files\n",
        "import magenta.music as mm\n",
        "from magenta.models.music_vae import configs\n",
        "from magenta.models.music_vae.trained_model import TrainedModel\n",
        "import numpy as np\n",
        "import os\n",
        "import tensorflow.compat.v1 as tf\n",
        "\n",
        "tf.disable_v2_behavior()\n",
        "\n",
        "# Necessary until pyfluidsynth is updated (>1.2.5).\n",
        "import warnings\n",
        "warnings.filterwarnings(\"ignore\", category=DeprecationWarning)\n",
        "\n",
        "print('Done')"
      ]
    },
    {
      "cell_type": "code",
      "source": [
        "def play(note_sequence):\n",
        "  mm.play_sequence(note_sequence, synth=mm.fluidsynth)\n",
        "\n",
        "def interpolate(model, start_seq, end_seq, num_steps, max_length=32,\n",
        "                assert_same_length=True, temperature=0.5,\n",
        "                individual_duration=4.0):\n",
        "  \"\"\"Interpolates between a start and end sequence.\"\"\"\n",
        "  note_sequences = model.interpolate(\n",
        "      start_seq, end_seq,num_steps=num_steps, length=max_length,\n",
        "      temperature=temperature,\n",
        "      assert_same_length=assert_same_length)\n",
        "\n",
        "  print('Start Seq Reconstruction')\n",
        "  play(note_sequences[0])\n",
        "  print('End Seq Reconstruction')\n",
        "  play(note_sequences[-1])\n",
        "  print('Mean Sequence')\n",
        "  play(note_sequences[num_steps // 2])\n",
        "  print('Start -> End Interpolation')\n",
        "  interp_seq = mm.sequences_lib.concatenate_sequences(\n",
        "      note_sequences, [individual_duration] * len(note_sequences))\n",
        "  play(interp_seq)\n",
        "  mm.plot_sequence(interp_seq)\n",
        "  return interp_seq if num_steps > 3 else note_sequences[num_steps // 2]\n",
        "\n",
        "def download(note_sequence, filename):\n",
        "  mm.sequence_proto_to_midi_file(note_sequence, filename)\n",
        "  files.download(filename)"
      ],
      "metadata": {
        "id": "vd1OUUfYRzwx"
      },
      "execution_count": null,
      "outputs": []
    },
    {
      "cell_type": "markdown",
      "source": [
        "# 16-bar Melody Models"
      ],
      "metadata": {
        "id": "gf3h-mRpPPzS"
      }
    },
    {
      "cell_type": "markdown",
      "source": [
        "Load the pre-trained models."
      ],
      "metadata": {
        "id": "nPrqg3dmSEfY"
      }
    },
    {
      "cell_type": "code",
      "source": [
        "mel_16bar_models = {}\n",
        "hierdec_mel_16bar_config = configs.CONFIG_MAP['hierdec-mel_16bar']\n",
        "mel_16bar_models['hierdec_mel_16bar'] = TrainedModel(hierdec_mel_16bar_config, batch_size=4, checkpoint_dir_or_path=BASE_DIR + '/checkpoints/mel_16bar_hierdec.ckpt')\n",
        "\n",
        "flat_mel_16bar_config = configs.CONFIG_MAP['flat-mel_16bar']\n",
        "mel_16bar_models['baseline_flat_mel_16bar'] = TrainedModel(flat_mel_16bar_config, batch_size=4, checkpoint_dir_or_path=BASE_DIR + '/checkpoints/mel_16bar_flat.ckpt')"
      ],
      "metadata": {
        "colab": {
          "base_uri": "https://localhost:8080/"
        },
        "id": "2rsTykyZPPGs",
        "outputId": "958d7b00-2d8f-41b6-82e6-bf8c38785c0a"
      },
      "execution_count": null,
      "outputs": [
        {
          "output_type": "stream",
          "name": "stdout",
          "text": [
            "INFO:tensorflow:Building MusicVAE model with BidirectionalLstmEncoder, HierarchicalLstmDecoder, and hparams:\n",
            "{'max_seq_len': 256, 'z_size': 512, 'free_bits': 256, 'max_beta': 0.2, 'beta_rate': 0.0, 'batch_size': 4, 'grad_clip': 1.0, 'clip_mode': 'global_norm', 'grad_norm_clip_to_zero': 10000, 'learning_rate': 0.001, 'decay_rate': 0.9999, 'min_learning_rate': 1e-05, 'conditional': True, 'dec_rnn_size': [1024, 1024], 'enc_rnn_size': [2048, 2048], 'dropout_keep_prob': 1.0, 'sampling_schedule': 'constant', 'sampling_rate': 0.0, 'use_cudnn': False, 'residual_encoder': False, 'residual_decoder': False, 'control_preprocessing_rnn_size': [256]}\n",
            "INFO:tensorflow:\n",
            "Encoder Cells (bidirectional):\n",
            "  units: [2048, 2048]\n",
            "\n",
            "WARNING:tensorflow:`tf.nn.rnn_cell.MultiRNNCell` is deprecated. This class is equivalent as `tf.keras.layers.StackedRNNCells`, and will be replaced by that in Tensorflow 2.0.\n",
            "WARNING:tensorflow:`tf.nn.rnn_cell.MultiRNNCell` is deprecated. This class is equivalent as `tf.keras.layers.StackedRNNCells`, and will be replaced by that in Tensorflow 2.0.\n",
            "WARNING:tensorflow:`tf.nn.rnn_cell.MultiRNNCell` is deprecated. This class is equivalent as `tf.keras.layers.StackedRNNCells`, and will be replaced by that in Tensorflow 2.0.\n",
            "WARNING:tensorflow:`tf.nn.rnn_cell.MultiRNNCell` is deprecated. This class is equivalent as `tf.keras.layers.StackedRNNCells`, and will be replaced by that in Tensorflow 2.0.\n",
            "INFO:tensorflow:\n",
            "Hierarchical Decoder:\n",
            "  input length: 256\n",
            "  level output lengths: [16, 16]\n",
            "\n",
            "WARNING:tensorflow:`tf.nn.rnn_cell.MultiRNNCell` is deprecated. This class is equivalent as `tf.keras.layers.StackedRNNCells`, and will be replaced by that in Tensorflow 2.0.\n",
            "INFO:tensorflow:\n",
            "Decoder Cells:\n",
            "  units: [1024, 1024]\n",
            "\n",
            "WARNING:tensorflow:`tf.nn.rnn_cell.MultiRNNCell` is deprecated. This class is equivalent as `tf.keras.layers.StackedRNNCells`, and will be replaced by that in Tensorflow 2.0.\n"
          ]
        },
        {
          "output_type": "stream",
          "name": "stderr",
          "text": [
            "/usr/local/lib/python3.7/dist-packages/magenta/models/music_vae/lstm_utils.py:99: UserWarning: `tf.layers.dense` is deprecated and will be removed in a future version. Please use `tf.keras.layers.Dense` instead.\n",
            "  name=name),\n",
            "/usr/local/lib/python3.7/dist-packages/keras/legacy_tf_layers/core.py:255: UserWarning: `layer.apply` is deprecated and will be removed in a future version. Please use `layer.__call__` method instead.\n",
            "  return layer.apply(inputs)\n",
            "/usr/local/lib/python3.7/dist-packages/magenta/contrib/rnn.py:751: UserWarning: `layer.add_variable` is deprecated and will be removed in a future version. Please use `layer.add_weight` method instead.\n",
            "  self._names[\"W\"], [input_size + self._num_units, self._num_units * 4])\n",
            "/usr/local/lib/python3.7/dist-packages/magenta/contrib/rnn.py:754: UserWarning: `layer.add_variable` is deprecated and will be removed in a future version. Please use `layer.add_weight` method instead.\n",
            "  initializer=tf.constant_initializer(0.0))\n"
          ]
        },
        {
          "output_type": "stream",
          "name": "stdout",
          "text": [
            "WARNING:tensorflow:From /usr/local/lib/python3.7/dist-packages/magenta/models/music_vae/base_model.py:189: to_float (from tensorflow.python.ops.math_ops) is deprecated and will be removed in a future version.\n",
            "Instructions for updating:\n",
            "Use `tf.cast` instead.\n",
            "WARNING:tensorflow:From /usr/local/lib/python3.7/dist-packages/magenta/contrib/rnn.py:474: bidirectional_dynamic_rnn (from tensorflow.python.ops.rnn) is deprecated and will be removed in a future version.\n",
            "Instructions for updating:\n",
            "Please use `keras.layers.Bidirectional(keras.layers.RNN(cell))`, which is equivalent to this API\n",
            "WARNING:tensorflow:From /usr/local/lib/python3.7/dist-packages/tensorflow/python/ops/rnn.py:450: dynamic_rnn (from tensorflow.python.ops.rnn) is deprecated and will be removed in a future version.\n",
            "Instructions for updating:\n",
            "Please use `keras.layers.RNN(cell)`, which is equivalent to this API\n",
            "WARNING:tensorflow:From /usr/local/lib/python3.7/dist-packages/tensorflow_probability/python/bijectors/affine_linear_operator.py:116: LinearOperator.graph_parents (from tensorflow.python.ops.linalg.linear_operator) is deprecated and will be removed in a future version.\n",
            "Instructions for updating:\n",
            "Do not call `graph_parents`.\n"
          ]
        },
        {
          "output_type": "stream",
          "name": "stderr",
          "text": [
            "/usr/local/lib/python3.7/dist-packages/magenta/models/music_vae/base_model.py:199: UserWarning: `tf.layers.dense` is deprecated and will be removed in a future version. Please use `tf.keras.layers.Dense` instead.\n",
            "  kernel_initializer=tf.random_normal_initializer(stddev=0.001))\n",
            "/usr/local/lib/python3.7/dist-packages/magenta/models/music_vae/base_model.py:205: UserWarning: `tf.layers.dense` is deprecated and will be removed in a future version. Please use `tf.keras.layers.Dense` instead.\n",
            "  kernel_initializer=tf.random_normal_initializer(stddev=0.001))\n"
          ]
        },
        {
          "output_type": "stream",
          "name": "stdout",
          "text": [
            "INFO:tensorflow:Restoring parameters from gs://download.magenta.tensorflow.org/models/music_vae/colab2/checkpoints/mel_16bar_hierdec.ckpt\n",
            "INFO:tensorflow:Building MusicVAE model with BidirectionalLstmEncoder, CategoricalLstmDecoder, and hparams:\n",
            "{'max_seq_len': 256, 'z_size': 512, 'free_bits': 256, 'max_beta': 0.2, 'beta_rate': 0.0, 'batch_size': 4, 'grad_clip': 1.0, 'clip_mode': 'global_norm', 'grad_norm_clip_to_zero': 10000, 'learning_rate': 0.001, 'decay_rate': 0.9999, 'min_learning_rate': 1e-05, 'conditional': True, 'dec_rnn_size': [2048, 2048, 2048], 'enc_rnn_size': [2048, 2048], 'dropout_keep_prob': 1.0, 'sampling_schedule': 'constant', 'sampling_rate': 0.0, 'use_cudnn': False, 'residual_encoder': False, 'residual_decoder': False, 'control_preprocessing_rnn_size': [256]}\n",
            "INFO:tensorflow:\n",
            "Encoder Cells (bidirectional):\n",
            "  units: [2048, 2048]\n",
            "\n",
            "WARNING:tensorflow:`tf.nn.rnn_cell.MultiRNNCell` is deprecated. This class is equivalent as `tf.keras.layers.StackedRNNCells`, and will be replaced by that in Tensorflow 2.0.\n",
            "WARNING:tensorflow:`tf.nn.rnn_cell.MultiRNNCell` is deprecated. This class is equivalent as `tf.keras.layers.StackedRNNCells`, and will be replaced by that in Tensorflow 2.0.\n",
            "WARNING:tensorflow:`tf.nn.rnn_cell.MultiRNNCell` is deprecated. This class is equivalent as `tf.keras.layers.StackedRNNCells`, and will be replaced by that in Tensorflow 2.0.\n",
            "WARNING:tensorflow:`tf.nn.rnn_cell.MultiRNNCell` is deprecated. This class is equivalent as `tf.keras.layers.StackedRNNCells`, and will be replaced by that in Tensorflow 2.0.\n",
            "INFO:tensorflow:\n",
            "Decoder Cells:\n",
            "  units: [2048, 2048, 2048]\n",
            "\n",
            "WARNING:tensorflow:`tf.nn.rnn_cell.MultiRNNCell` is deprecated. This class is equivalent as `tf.keras.layers.StackedRNNCells`, and will be replaced by that in Tensorflow 2.0.\n",
            "INFO:tensorflow:Restoring parameters from gs://download.magenta.tensorflow.org/models/music_vae/colab2/checkpoints/mel_16bar_flat.ckpt\n"
          ]
        }
      ]
    },
    {
      "cell_type": "markdown",
      "source": [
        "## Generate Means"
      ],
      "metadata": {
        "id": "gRxV_L9CPjE-"
      }
    },
    {
      "cell_type": "markdown",
      "source": [
        "Upload MIDI files to use for interpolation endpoints."
      ],
      "metadata": {
        "id": "UDQaBL0rsl1k"
      }
    },
    {
      "cell_type": "code",
      "source": [
        "input_mel_16_midi_data = files.upload().values() or input_mel_16_midi_data"
      ],
      "metadata": {
        "colab": {
          "resources": {
            "http://localhost:8080/nbextensions/google.colab/files.js": {
              "data": "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",
              "ok": true,
              "headers": [
                [
                  "content-type",
                  "application/javascript"
                ]
              ],
              "status": 200,
              "status_text": ""
            }
          },
          "base_uri": "https://localhost:8080/",
          "height": 178
        },
        "id": "JqEsAsWyPmC8",
        "outputId": "01c92105-fc52-4c79-ff46-5d142326ed0b"
      },
      "execution_count": null,
      "outputs": [
        {
          "output_type": "display_data",
          "data": {
            "text/html": [
              "\n",
              "     <input type=\"file\" id=\"files-5349db21-4683-406f-b3d8-db64da33f30b\" name=\"files[]\" multiple disabled\n",
              "        style=\"border:none\" />\n",
              "     <output id=\"result-5349db21-4683-406f-b3d8-db64da33f30b\">\n",
              "      Upload widget is only available when the cell has been executed in the\n",
              "      current browser session. Please rerun this cell to enable.\n",
              "      </output>\n",
              "      <script src=\"/nbextensions/google.colab/files.js\"></script> "
            ],
            "text/plain": [
              "<IPython.core.display.HTML object>"
            ]
          },
          "metadata": {}
        },
        {
          "output_type": "stream",
          "name": "stdout",
          "text": [
            "Saving 12761_Titanic.mid to 12761_Titanic.mid\n",
            "Saving 24445_Medley.mid to 24445_Medley.mid\n",
            "Saving 26844_Kraken-The.mid to 26844_Kraken-The.mid\n",
            "Saving 26872_Pirates-of-the-Caribbean.mid to 26872_Pirates-of-the-Caribbean.mid\n"
          ]
        }
      ]
    },
    {
      "cell_type": "markdown",
      "source": [
        "Extract melodies from MIDI files. This will extract all unique 16-bar melodies using a sliding window with a stride of 1 bar."
      ],
      "metadata": {
        "id": "rw2kEy-MsaLx"
      }
    },
    {
      "cell_type": "code",
      "source": [
        "from collections import defaultdict\n",
        "mel_input_seqs = [mm.midi_to_sequence_proto(m) for m in input_mel_16_midi_data]\n",
        "extracted_16_mels = []\n",
        "start_of_melodies = defaultdict(int)\n",
        "for ns in mel_input_seqs:\n",
        "  start_of_melodies[len(extracted_16_mels)] += 1\n",
        "  extracted_16_mels.extend(\n",
        "      hierdec_mel_16bar_config.data_converter.from_tensors(\n",
        "          hierdec_mel_16bar_config.data_converter.to_tensors(ns)[1]))\n",
        "melody = 0\n",
        "for i, ns in enumerate(extracted_16_mels):\n",
        "  if i in start_of_melodies:\n",
        "    melody += start_of_melodies[i]\n",
        "    print(\"Start of the\", melody, \"mid\")\n",
        "  print(\"Melody\", i)\n",
        "  play(ns)"
      ],
      "metadata": {
        "colab": {
          "base_uri": "https://localhost:8080/",
          "height": 810
        },
        "id": "gd1_iIIXPriO",
        "outputId": "0a2c5f0e-8f7e-4aa7-d09f-e9ba479a9096"
      },
      "execution_count": null,
      "outputs": [
        {
          "output_type": "stream",
          "name": "stdout",
          "text": [
            "Start of the 1 mid\n",
            "Melody 0\n"
          ]
        },
        {
          "output_type": "display_data",
          "data": {
            "text/html": [
              "<div id=\"id_1\"> </div>"
            ],
            "text/plain": [
              "<IPython.core.display.HTML object>"
            ]
          },
          "metadata": {}
        },
        {
          "output_type": "stream",
          "name": "stdout",
          "text": [
            "Melody 1\n"
          ]
        },
        {
          "output_type": "display_data",
          "data": {
            "text/html": [
              "<div id=\"id_2\"> </div>"
            ],
            "text/plain": [
              "<IPython.core.display.HTML object>"
            ]
          },
          "metadata": {}
        },
        {
          "output_type": "stream",
          "name": "stdout",
          "text": [
            "Melody 2\n"
          ]
        },
        {
          "output_type": "display_data",
          "data": {
            "text/html": [
              "<div id=\"id_3\"> </div>"
            ],
            "text/plain": [
              "<IPython.core.display.HTML object>"
            ]
          },
          "metadata": {}
        },
        {
          "output_type": "stream",
          "name": "stdout",
          "text": [
            "Melody 3\n"
          ]
        },
        {
          "output_type": "display_data",
          "data": {
            "text/html": [
              "<div id=\"id_4\"> </div>"
            ],
            "text/plain": [
              "<IPython.core.display.HTML object>"
            ]
          },
          "metadata": {}
        },
        {
          "output_type": "stream",
          "name": "stdout",
          "text": [
            "Melody 4\n"
          ]
        },
        {
          "output_type": "display_data",
          "data": {
            "text/html": [
              "<div id=\"id_5\"> </div>"
            ],
            "text/plain": [
              "<IPython.core.display.HTML object>"
            ]
          },
          "metadata": {}
        },
        {
          "output_type": "stream",
          "name": "stdout",
          "text": [
            "Start of the 3 mid\n",
            "Melody 5\n"
          ]
        },
        {
          "output_type": "display_data",
          "data": {
            "text/html": [
              "<div id=\"id_6\"> </div>"
            ],
            "text/plain": [
              "<IPython.core.display.HTML object>"
            ]
          },
          "metadata": {}
        },
        {
          "output_type": "stream",
          "name": "stdout",
          "text": [
            "Melody 6\n"
          ]
        },
        {
          "output_type": "display_data",
          "data": {
            "text/html": [
              "<div id=\"id_7\"> </div>"
            ],
            "text/plain": [
              "<IPython.core.display.HTML object>"
            ]
          },
          "metadata": {}
        },
        {
          "output_type": "stream",
          "name": "stdout",
          "text": [
            "Melody 7\n"
          ]
        },
        {
          "output_type": "display_data",
          "data": {
            "text/html": [
              "<div id=\"id_8\"> </div>"
            ],
            "text/plain": [
              "<IPython.core.display.HTML object>"
            ]
          },
          "metadata": {}
        },
        {
          "output_type": "stream",
          "name": "stdout",
          "text": [
            "Melody 8\n"
          ]
        },
        {
          "output_type": "display_data",
          "data": {
            "text/html": [
              "<div id=\"id_9\"> </div>"
            ],
            "text/plain": [
              "<IPython.core.display.HTML object>"
            ]
          },
          "metadata": {}
        },
        {
          "output_type": "stream",
          "name": "stdout",
          "text": [
            "Melody 9\n"
          ]
        },
        {
          "output_type": "display_data",
          "data": {
            "text/html": [
              "<div id=\"id_10\"> </div>"
            ],
            "text/plain": [
              "<IPython.core.display.HTML object>"
            ]
          },
          "metadata": {}
        }
      ]
    },
    {
      "cell_type": "code",
      "source": [
        "melody = 0\n",
        "for position in sorted(start_of_melodies.keys()):\n",
        "  melody += start_of_melodies[position]\n",
        "  print(\"Start of the\", melody, \"mid is the\\t\", position, \"melody\")"
      ],
      "metadata": {
        "colab": {
          "base_uri": "https://localhost:8080/"
        },
        "id": "7GbThGjFVcDd",
        "outputId": "5d06f748-9664-4217-e146-ed81f604ac5e"
      },
      "execution_count": null,
      "outputs": [
        {
          "output_type": "stream",
          "name": "stdout",
          "text": [
            "Start of the 1 mid is the\t 0 melody\n",
            "Start of the 3 mid is the\t 5 melody\n",
            "Start of the 4 mid is the\t 10 melody\n"
          ]
        }
      ]
    },
    {
      "cell_type": "code",
      "source": [
        "#@title Compute the reconstructions and mean of the two melodies, selected from the previous cell.\n",
        "mel_interp_model = \"hierdec_mel_16bar\" #@param [\"hierdec_mel_16bar\", \"baseline_flat_mel_16bar\"]\n",
        "\n",
        "first_melody =  0#@param {type:\"integer\"}\n",
        "second_melody =  9#@param {type:\"integer\"}\n",
        "first_mel = extracted_16_mels[first_melody]\n",
        "second_mel = extracted_16_mels[second_melody]\n",
        "\n",
        "mel_16bar_mean = interpolate(mel_16bar_models[mel_interp_model], first_mel, second_mel, num_steps=3, max_length=256, individual_duration=32)"
      ],
      "metadata": {
        "colab": {
          "base_uri": "https://localhost:8080/",
          "height": 521
        },
        "id": "YlxjS3LaPvIU",
        "outputId": "4dd162d4-7880-41e8-a1f4-d0f8f823dbc4"
      },
      "execution_count": null,
      "outputs": [
        {
          "output_type": "stream",
          "name": "stdout",
          "text": [
            "Start Seq Reconstruction\n"
          ]
        },
        {
          "output_type": "display_data",
          "data": {
            "text/html": [
              "<div id=\"id_11\"> </div>"
            ],
            "text/plain": [
              "<IPython.core.display.HTML object>"
            ]
          },
          "metadata": {}
        },
        {
          "output_type": "stream",
          "name": "stdout",
          "text": [
            "End Seq Reconstruction\n"
          ]
        },
        {
          "output_type": "display_data",
          "data": {
            "text/html": [
              "<div id=\"id_12\"> </div>"
            ],
            "text/plain": [
              "<IPython.core.display.HTML object>"
            ]
          },
          "metadata": {}
        },
        {
          "output_type": "stream",
          "name": "stdout",
          "text": [
            "Mean Sequence\n"
          ]
        },
        {
          "output_type": "display_data",
          "data": {
            "text/html": [
              "<div id=\"id_13\"> </div>"
            ],
            "text/plain": [
              "<IPython.core.display.HTML object>"
            ]
          },
          "metadata": {}
        },
        {
          "output_type": "stream",
          "name": "stdout",
          "text": [
            "Start -> End Interpolation\n"
          ]
        },
        {
          "output_type": "display_data",
          "data": {
            "text/html": [
              "<div id=\"id_14\"> </div>"
            ],
            "text/plain": [
              "<IPython.core.display.HTML object>"
            ]
          },
          "metadata": {}
        },
        {
          "output_type": "display_data",
          "data": {
            "application/javascript": [
              "\n",
              "(function(root) {\n",
              "  function now() {\n",
              "    return new Date();\n",
              "  }\n",
              "\n",
              "  var force = true;\n",
              "\n",
              "  if (typeof root._bokeh_onload_callbacks === \"undefined\" || force === true) {\n",
              "    root._bokeh_onload_callbacks = [];\n",
              "    root._bokeh_is_loading = undefined;\n",
              "  }\n",
              "\n",
              "  var JS_MIME_TYPE = 'application/javascript';\n",
              "  var HTML_MIME_TYPE = 'text/html';\n",
              "  var EXEC_MIME_TYPE = 'application/vnd.bokehjs_exec.v0+json';\n",
              "  var CLASS_NAME = 'output_bokeh rendered_html';\n",
              "\n",
              "  /**\n",
              "   * Render data to the DOM node\n",
              "   */\n",
              "  function render(props, node) {\n",
              "    var script = document.createElement(\"script\");\n",
              "    node.appendChild(script);\n",
              "  }\n",
              "\n",
              "  /**\n",
              "   * Handle when an output is cleared or removed\n",
              "   */\n",
              "  function handleClearOutput(event, handle) {\n",
              "    var cell = handle.cell;\n",
              "\n",
              "    var id = cell.output_area._bokeh_element_id;\n",
              "    var server_id = cell.output_area._bokeh_server_id;\n",
              "    // Clean up Bokeh references\n",
              "    if (id != null && id in Bokeh.index) {\n",
              "      Bokeh.index[id].model.document.clear();\n",
              "      delete Bokeh.index[id];\n",
              "    }\n",
              "\n",
              "    if (server_id !== undefined) {\n",
              "      // Clean up Bokeh references\n",
              "      var cmd = \"from bokeh.io.state import curstate; print(curstate().uuid_to_server['\" + server_id + \"'].get_sessions()[0].document.roots[0]._id)\";\n",
              "      cell.notebook.kernel.execute(cmd, {\n",
              "        iopub: {\n",
              "          output: function(msg) {\n",
              "            var id = msg.content.text.trim();\n",
              "            if (id in Bokeh.index) {\n",
              "              Bokeh.index[id].model.document.clear();\n",
              "              delete Bokeh.index[id];\n",
              "            }\n",
              "          }\n",
              "        }\n",
              "      });\n",
              "      // Destroy server and session\n",
              "      var cmd = \"import bokeh.io.notebook as ion; ion.destroy_server('\" + server_id + \"')\";\n",
              "      cell.notebook.kernel.execute(cmd);\n",
              "    }\n",
              "  }\n",
              "\n",
              "  /**\n",
              "   * Handle when a new output is added\n",
              "   */\n",
              "  function handleAddOutput(event, handle) {\n",
              "    var output_area = handle.output_area;\n",
              "    var output = handle.output;\n",
              "\n",
              "    // limit handleAddOutput to display_data with EXEC_MIME_TYPE content only\n",
              "    if ((output.output_type != \"display_data\") || (!Object.prototype.hasOwnProperty.call(output.data, EXEC_MIME_TYPE))) {\n",
              "      return\n",
              "    }\n",
              "\n",
              "    var toinsert = output_area.element.find(\".\" + CLASS_NAME.split(' ')[0]);\n",
              "\n",
              "    if (output.metadata[EXEC_MIME_TYPE][\"id\"] !== undefined) {\n",
              "      toinsert[toinsert.length - 1].firstChild.textContent = output.data[JS_MIME_TYPE];\n",
              "      // store reference to embed id on output_area\n",
              "      output_area._bokeh_element_id = output.metadata[EXEC_MIME_TYPE][\"id\"];\n",
              "    }\n",
              "    if (output.metadata[EXEC_MIME_TYPE][\"server_id\"] !== undefined) {\n",
              "      var bk_div = document.createElement(\"div\");\n",
              "      bk_div.innerHTML = output.data[HTML_MIME_TYPE];\n",
              "      var script_attrs = bk_div.children[0].attributes;\n",
              "      for (var i = 0; i < script_attrs.length; i++) {\n",
              "        toinsert[toinsert.length - 1].firstChild.setAttribute(script_attrs[i].name, script_attrs[i].value);\n",
              "        toinsert[toinsert.length - 1].firstChild.textContent = bk_div.children[0].textContent\n",
              "      }\n",
              "      // store reference to server id on output_area\n",
              "      output_area._bokeh_server_id = output.metadata[EXEC_MIME_TYPE][\"server_id\"];\n",
              "    }\n",
              "  }\n",
              "\n",
              "  function register_renderer(events, OutputArea) {\n",
              "\n",
              "    function append_mime(data, metadata, element) {\n",
              "      // create a DOM node to render to\n",
              "      var toinsert = this.create_output_subarea(\n",
              "        metadata,\n",
              "        CLASS_NAME,\n",
              "        EXEC_MIME_TYPE\n",
              "      );\n",
              "      this.keyboard_manager.register_events(toinsert);\n",
              "      // Render to node\n",
              "      var props = {data: data, metadata: metadata[EXEC_MIME_TYPE]};\n",
              "      render(props, toinsert[toinsert.length - 1]);\n",
              "      element.append(toinsert);\n",
              "      return toinsert\n",
              "    }\n",
              "\n",
              "    /* Handle when an output is cleared or removed */\n",
              "    events.on('clear_output.CodeCell', handleClearOutput);\n",
              "    events.on('delete.Cell', handleClearOutput);\n",
              "\n",
              "    /* Handle when a new output is added */\n",
              "    events.on('output_added.OutputArea', handleAddOutput);\n",
              "\n",
              "    /**\n",
              "     * Register the mime type and append_mime function with output_area\n",
              "     */\n",
              "    OutputArea.prototype.register_mime_type(EXEC_MIME_TYPE, append_mime, {\n",
              "      /* Is output safe? */\n",
              "      safe: true,\n",
              "      /* Index of renderer in `output_area.display_order` */\n",
              "      index: 0\n",
              "    });\n",
              "  }\n",
              "\n",
              "  // register the mime type if in Jupyter Notebook environment and previously unregistered\n",
              "  if (root.Jupyter !== undefined) {\n",
              "    var events = require('base/js/events');\n",
              "    var OutputArea = require('notebook/js/outputarea').OutputArea;\n",
              "\n",
              "    if (OutputArea.prototype.mime_types().indexOf(EXEC_MIME_TYPE) == -1) {\n",
              "      register_renderer(events, OutputArea);\n",
              "    }\n",
              "  }\n",
              "\n",
              "  \n",
              "  if (typeof (root._bokeh_timeout) === \"undefined\" || force === true) {\n",
              "    root._bokeh_timeout = Date.now() + 5000;\n",
              "    root._bokeh_failed_load = false;\n",
              "  }\n",
              "\n",
              "  var NB_LOAD_WARNING = {'data': {'text/html':\n",
              "     \"<div style='background-color: #fdd'>\\n\"+\n",
              "     \"<p>\\n\"+\n",
              "     \"BokehJS does not appear to have successfully loaded. If loading BokehJS from CDN, this \\n\"+\n",
              "     \"may be due to a slow or bad network connection. Possible fixes:\\n\"+\n",
              "     \"</p>\\n\"+\n",
              "     \"<ul>\\n\"+\n",
              "     \"<li>re-rerun `output_notebook()` to attempt to load from CDN again, or</li>\\n\"+\n",
              "     \"<li>use INLINE resources instead, as so:</li>\\n\"+\n",
              "     \"</ul>\\n\"+\n",
              "     \"<code>\\n\"+\n",
              "     \"from bokeh.resources import INLINE\\n\"+\n",
              "     \"output_notebook(resources=INLINE)\\n\"+\n",
              "     \"</code>\\n\"+\n",
              "     \"</div>\"}};\n",
              "\n",
              "  function display_loaded() {\n",
              "    var el = document.getElementById(null);\n",
              "    if (el != null) {\n",
              "      el.textContent = \"BokehJS is loading...\";\n",
              "    }\n",
              "    if (root.Bokeh !== undefined) {\n",
              "      if (el != null) {\n",
              "        el.textContent = \"BokehJS \" + root.Bokeh.version + \" successfully loaded.\";\n",
              "      }\n",
              "    } else if (Date.now() < root._bokeh_timeout) {\n",
              "      setTimeout(display_loaded, 100)\n",
              "    }\n",
              "  }\n",
              "\n",
              "\n",
              "  function run_callbacks() {\n",
              "    try {\n",
              "      root._bokeh_onload_callbacks.forEach(function(callback) {\n",
              "        if (callback != null)\n",
              "          callback();\n",
              "      });\n",
              "    } finally {\n",
              "      delete root._bokeh_onload_callbacks\n",
              "    }\n",
              "    console.debug(\"Bokeh: all callbacks have finished\");\n",
              "  }\n",
              "\n",
              "  function load_libs(css_urls, js_urls, callback) {\n",
              "    if (css_urls == null) css_urls = [];\n",
              "    if (js_urls == null) js_urls = [];\n",
              "\n",
              "    root._bokeh_onload_callbacks.push(callback);\n",
              "    if (root._bokeh_is_loading > 0) {\n",
              "      console.debug(\"Bokeh: BokehJS is being loaded, scheduling callback at\", now());\n",
              "      return null;\n",
              "    }\n",
              "    if (js_urls == null || js_urls.length === 0) {\n",
              "      run_callbacks();\n",
              "      return null;\n",
              "    }\n",
              "    console.debug(\"Bokeh: BokehJS not loaded, scheduling load and callback at\", now());\n",
              "    root._bokeh_is_loading = css_urls.length + js_urls.length;\n",
              "\n",
              "    function on_load() {\n",
              "      root._bokeh_is_loading--;\n",
              "      if (root._bokeh_is_loading === 0) {\n",
              "        console.debug(\"Bokeh: all BokehJS libraries/stylesheets loaded\");\n",
              "        run_callbacks()\n",
              "      }\n",
              "    }\n",
              "\n",
              "    function on_error(url) {\n",
              "      console.error(\"failed to load \" + url);\n",
              "    }\n",
              "\n",
              "    for (let i = 0; i < css_urls.length; i++) {\n",
              "      const url = css_urls[i];\n",
              "      const element = document.createElement(\"link\");\n",
              "      element.onload = on_load;\n",
              "      element.onerror = on_error.bind(null, url);\n",
              "      element.rel = \"stylesheet\";\n",
              "      element.type = \"text/css\";\n",
              "      element.href = url;\n",
              "      console.debug(\"Bokeh: injecting link tag for BokehJS stylesheet: \", url);\n",
              "      document.body.appendChild(element);\n",
              "    }\n",
              "\n",
              "    const hashes = {\"https://cdn.bokeh.org/bokeh/release/bokeh-2.3.3.min.js\": \"dM3QQsP+wXdHg42wTqW85BjZQdLNNIXqlPw/BgKoExPmTG7ZLML4EGqLMfqHT6ON\", \"https://cdn.bokeh.org/bokeh/release/bokeh-tables-2.3.3.min.js\": \"8x57I4YuIfu8XyZfFo0XVr2WAT8EK4rh/uDe3wF7YuW2FNUSNEpJbsPaB1nJ2fz2\", \"https://cdn.bokeh.org/bokeh/release/bokeh-widgets-2.3.3.min.js\": \"3QTqdz9LyAm2i0sG5XTePsHec3UHWwVsrOL68SYRoAXsafvfAyqtQ+h440+qIBhS\"};\n",
              "\n",
              "    for (let i = 0; i < js_urls.length; i++) {\n",
              "      const url = js_urls[i];\n",
              "      const element = document.createElement('script');\n",
              "      element.onload = on_load;\n",
              "      element.onerror = on_error.bind(null, url);\n",
              "      element.async = false;\n",
              "      element.src = url;\n",
              "      if (url in hashes) {\n",
              "        element.crossOrigin = \"anonymous\";\n",
              "        element.integrity = \"sha384-\" + hashes[url];\n",
              "      }\n",
              "      console.debug(\"Bokeh: injecting script tag for BokehJS library: \", url);\n",
              "      document.head.appendChild(element);\n",
              "    }\n",
              "  };\n",
              "\n",
              "  function inject_raw_css(css) {\n",
              "    const element = document.createElement(\"style\");\n",
              "    element.appendChild(document.createTextNode(css));\n",
              "    document.body.appendChild(element);\n",
              "  }\n",
              "\n",
              "  \n",
              "  var js_urls = [\"https://cdn.bokeh.org/bokeh/release/bokeh-2.3.3.min.js\", \"https://cdn.bokeh.org/bokeh/release/bokeh-widgets-2.3.3.min.js\", \"https://cdn.bokeh.org/bokeh/release/bokeh-tables-2.3.3.min.js\"];\n",
              "  var css_urls = [];\n",
              "  \n",
              "\n",
              "  var inline_js = [\n",
              "    function(Bokeh) {\n",
              "      Bokeh.set_log_level(\"info\");\n",
              "    },\n",
              "    function(Bokeh) {\n",
              "    \n",
              "    \n",
              "    }\n",
              "  ];\n",
              "\n",
              "  function run_inline_js() {\n",
              "    \n",
              "    if (root.Bokeh !== undefined || force === true) {\n",
              "      \n",
              "    for (var i = 0; i < inline_js.length; i++) {\n",
              "      inline_js[i].call(root, root.Bokeh);\n",
              "    }\n",
              "    } else if (Date.now() < root._bokeh_timeout) {\n",
              "      setTimeout(run_inline_js, 100);\n",
              "    } else if (!root._bokeh_failed_load) {\n",
              "      console.log(\"Bokeh: BokehJS failed to load within specified timeout.\");\n",
              "      root._bokeh_failed_load = true;\n",
              "    } else if (force !== true) {\n",
              "      var cell = $(document.getElementById(null)).parents('.cell').data().cell;\n",
              "      cell.output_area.append_execute_result(NB_LOAD_WARNING)\n",
              "    }\n",
              "\n",
              "  }\n",
              "\n",
              "  if (root._bokeh_is_loading === 0) {\n",
              "    console.debug(\"Bokeh: BokehJS loaded, going straight to plotting\");\n",
              "    run_inline_js();\n",
              "  } else {\n",
              "    load_libs(css_urls, js_urls, function() {\n",
              "      console.debug(\"Bokeh: BokehJS plotting callback run at\", now());\n",
              "      run_inline_js();\n",
              "    });\n",
              "  }\n",
              "}(window));"
            ],
            "application/vnd.bokehjs_load.v0+json": "\n(function(root) {\n  function now() {\n    return new Date();\n  }\n\n  var force = true;\n\n  if (typeof root._bokeh_onload_callbacks === \"undefined\" || force === true) {\n    root._bokeh_onload_callbacks = [];\n    root._bokeh_is_loading = undefined;\n  }\n\n  \n\n  \n  if (typeof (root._bokeh_timeout) === \"undefined\" || force === true) {\n    root._bokeh_timeout = Date.now() + 5000;\n    root._bokeh_failed_load = false;\n  }\n\n  var NB_LOAD_WARNING = {'data': {'text/html':\n     \"<div style='background-color: #fdd'>\\n\"+\n     \"<p>\\n\"+\n     \"BokehJS does not appear to have successfully loaded. If loading BokehJS from CDN, this \\n\"+\n     \"may be due to a slow or bad network connection. Possible fixes:\\n\"+\n     \"</p>\\n\"+\n     \"<ul>\\n\"+\n     \"<li>re-rerun `output_notebook()` to attempt to load from CDN again, or</li>\\n\"+\n     \"<li>use INLINE resources instead, as so:</li>\\n\"+\n     \"</ul>\\n\"+\n     \"<code>\\n\"+\n     \"from bokeh.resources import INLINE\\n\"+\n     \"output_notebook(resources=INLINE)\\n\"+\n     \"</code>\\n\"+\n     \"</div>\"}};\n\n  function display_loaded() {\n    var el = document.getElementById(null);\n    if (el != null) {\n      el.textContent = \"BokehJS is loading...\";\n    }\n    if (root.Bokeh !== undefined) {\n      if (el != null) {\n        el.textContent = \"BokehJS \" + root.Bokeh.version + \" successfully loaded.\";\n      }\n    } else if (Date.now() < root._bokeh_timeout) {\n      setTimeout(display_loaded, 100)\n    }\n  }\n\n\n  function run_callbacks() {\n    try {\n      root._bokeh_onload_callbacks.forEach(function(callback) {\n        if (callback != null)\n          callback();\n      });\n    } finally {\n      delete root._bokeh_onload_callbacks\n    }\n    console.debug(\"Bokeh: all callbacks have finished\");\n  }\n\n  function load_libs(css_urls, js_urls, callback) {\n    if (css_urls == null) css_urls = [];\n    if (js_urls == null) js_urls = [];\n\n    root._bokeh_onload_callbacks.push(callback);\n    if (root._bokeh_is_loading > 0) {\n      console.debug(\"Bokeh: BokehJS is being loaded, scheduling callback at\", now());\n      return null;\n    }\n    if (js_urls == null || js_urls.length === 0) {\n      run_callbacks();\n      return null;\n    }\n    console.debug(\"Bokeh: BokehJS not loaded, scheduling load and callback at\", now());\n    root._bokeh_is_loading = css_urls.length + js_urls.length;\n\n    function on_load() {\n      root._bokeh_is_loading--;\n      if (root._bokeh_is_loading === 0) {\n        console.debug(\"Bokeh: all BokehJS libraries/stylesheets loaded\");\n        run_callbacks()\n      }\n    }\n\n    function on_error(url) {\n      console.error(\"failed to load \" + url);\n    }\n\n    for (let i = 0; i < css_urls.length; i++) {\n      const url = css_urls[i];\n      const element = document.createElement(\"link\");\n      element.onload = on_load;\n      element.onerror = on_error.bind(null, url);\n      element.rel = \"stylesheet\";\n      element.type = \"text/css\";\n      element.href = url;\n      console.debug(\"Bokeh: injecting link tag for BokehJS stylesheet: \", url);\n      document.body.appendChild(element);\n    }\n\n    const hashes = {\"https://cdn.bokeh.org/bokeh/release/bokeh-2.3.3.min.js\": \"dM3QQsP+wXdHg42wTqW85BjZQdLNNIXqlPw/BgKoExPmTG7ZLML4EGqLMfqHT6ON\", \"https://cdn.bokeh.org/bokeh/release/bokeh-tables-2.3.3.min.js\": \"8x57I4YuIfu8XyZfFo0XVr2WAT8EK4rh/uDe3wF7YuW2FNUSNEpJbsPaB1nJ2fz2\", \"https://cdn.bokeh.org/bokeh/release/bokeh-widgets-2.3.3.min.js\": \"3QTqdz9LyAm2i0sG5XTePsHec3UHWwVsrOL68SYRoAXsafvfAyqtQ+h440+qIBhS\"};\n\n    for (let i = 0; i < js_urls.length; i++) {\n      const url = js_urls[i];\n      const element = document.createElement('script');\n      element.onload = on_load;\n      element.onerror = on_error.bind(null, url);\n      element.async = false;\n      element.src = url;\n      if (url in hashes) {\n        element.crossOrigin = \"anonymous\";\n        element.integrity = \"sha384-\" + hashes[url];\n      }\n      console.debug(\"Bokeh: injecting script tag for BokehJS library: \", url);\n      document.head.appendChild(element);\n    }\n  };\n\n  function inject_raw_css(css) {\n    const element = document.createElement(\"style\");\n    element.appendChild(document.createTextNode(css));\n    document.body.appendChild(element);\n  }\n\n  \n  var js_urls = [\"https://cdn.bokeh.org/bokeh/release/bokeh-2.3.3.min.js\", \"https://cdn.bokeh.org/bokeh/release/bokeh-widgets-2.3.3.min.js\", \"https://cdn.bokeh.org/bokeh/release/bokeh-tables-2.3.3.min.js\"];\n  var css_urls = [];\n  \n\n  var inline_js = [\n    function(Bokeh) {\n      Bokeh.set_log_level(\"info\");\n    },\n    function(Bokeh) {\n    \n    \n    }\n  ];\n\n  function run_inline_js() {\n    \n    if (root.Bokeh !== undefined || force === true) {\n      \n    for (var i = 0; i < inline_js.length; i++) {\n      inline_js[i].call(root, root.Bokeh);\n    }\n    } else if (Date.now() < root._bokeh_timeout) {\n      setTimeout(run_inline_js, 100);\n    } else if (!root._bokeh_failed_load) {\n      console.log(\"Bokeh: BokehJS failed to load within specified timeout.\");\n      root._bokeh_failed_load = true;\n    } else if (force !== true) {\n      var cell = $(document.getElementById(null)).parents('.cell').data().cell;\n      cell.output_area.append_execute_result(NB_LOAD_WARNING)\n    }\n\n  }\n\n  if (root._bokeh_is_loading === 0) {\n    console.debug(\"Bokeh: BokehJS loaded, going straight to plotting\");\n    run_inline_js();\n  } else {\n    load_libs(css_urls, js_urls, function() {\n      console.debug(\"Bokeh: BokehJS plotting callback run at\", now());\n      run_inline_js();\n    });\n  }\n}(window));"
          },
          "metadata": {}
        },
        {
          "output_type": "display_data",
          "data": {
            "text/html": [
              "\n",
              "\n",
              "\n",
              "\n",
              "\n",
              "\n",
              "  <div class=\"bk-root\" id=\"474bd5f7-10fa-44b4-9457-e9ed36802555\" data-root-id=\"1002\"></div>\n"
            ]
          },
          "metadata": {}
        },
        {
          "output_type": "display_data",
          "data": {
            "application/javascript": [
              "(function(root) {\n",
              "  function embed_document(root) {\n",
              "    \n",
              "  var docs_json = {\"34477ef8-157e-468b-a77a-3cec84967dad\":{\"defs\":[],\"roots\":{\"references\":[{\"attributes\":{\"below\":[{\"id\":\"1011\"}],\"center\":[{\"id\":\"1014\"},{\"id\":\"1018\"}],\"height\":200,\"left\":[{\"id\":\"1015\"}],\"renderers\":[{\"id\":\"1038\"}],\"title\":{\"id\":\"1041\"},\"toolbar\":{\"id\":\"1025\"},\"width\":500,\"x_range\":{\"id\":\"1003\"},\"x_scale\":{\"id\":\"1007\"},\"y_range\":{\"id\":\"1005\"},\"y_scale\":{\"id\":\"1009\"}},\"id\":\"1002\",\"subtype\":\"Figure\",\"type\":\"Plot\"},{\"attributes\":{},\"id\":\"1020\",\"type\":\"PanTool\"},{\"attributes\":{\"bottom_units\":\"screen\",\"fill_alpha\":0.5,\"fill_color\":\"lightgrey\",\"left_units\":\"screen\",\"level\":\"overlay\",\"line_alpha\":1.0,\"line_color\":\"black\",\"line_dash\":[4,4],\"line_width\":2,\"right_units\":\"screen\",\"syncable\":false,\"top_units\":\"screen\"},\"id\":\"1024\",\"type\":\"BoxAnnotation\"},{\"attributes\":{\"active_multi\":null,\"tools\":[{\"id\":\"1019\"},{\"id\":\"1020\"},{\"id\":\"1021\"},{\"id\":\"1022\"},{\"id\":\"1023\"}]},\"id\":\"1025\",\"type\":\"Toolbar\"},{\"attributes\":{\"axis_label\":\"time (sec)\",\"formatter\":{\"id\":\"1046\"},\"major_label_policy\":{\"id\":\"1045\"},\"ticker\":{\"id\":\"1012\"}},\"id\":\"1011\",\"type\":\"LinearAxis\"},{\"attributes\":{\"data_source\":{\"id\":\"1034\"},\"glyph\":{\"id\":\"1036\"},\"hover_glyph\":null,\"muted_glyph\":null,\"nonselection_glyph\":{\"id\":\"1037\"},\"view\":{\"id\":\"1039\"}},\"id\":\"1038\",\"type\":\"GlyphRenderer\"},{\"attributes\":{},\"id\":\"1022\",\"type\":\"ResetTool\"},{\"attributes\":{},\"id\":\"1012\",\"type\":\"BasicTicker\"},{\"attributes\":{},\"id\":\"1045\",\"type\":\"AllLabels\"},{\"attributes\":{\"bottom\":{\"field\":\"bottom\"},\"fill_alpha\":{\"value\":0.1},\"fill_color\":{\"value\":\"#d53e4f\"},\"left\":{\"field\":\"start_time\"},\"line_alpha\":{\"value\":0.1},\"right\":{\"field\":\"end_time\"},\"top\":{\"field\":\"top\"}},\"id\":\"1037\",\"type\":\"Quad\"},{\"attributes\":{},\"id\":\"1023\",\"type\":\"SaveTool\"},{\"attributes\":{\"bottom\":{\"field\":\"bottom\"},\"fill_alpha\":{\"field\":\"fill_alpha\"},\"fill_color\":{\"value\":\"#d53e4f\"},\"left\":{\"field\":\"start_time\"},\"right\":{\"field\":\"end_time\"},\"top\":{\"field\":\"top\"}},\"id\":\"1036\",\"type\":\"Quad\"},{\"attributes\":{\"axis_label\":\"pitch (MIDI)\",\"formatter\":{\"id\":\"1043\"},\"major_label_policy\":{\"id\":\"1042\"},\"ticker\":{\"id\":\"1031\"}},\"id\":\"1015\",\"type\":\"LinearAxis\"},{\"attributes\":{\"overlay\":{\"id\":\"1024\"}},\"id\":\"1021\",\"type\":\"BoxZoomTool\"},{\"attributes\":{},\"id\":\"1042\",\"type\":\"AllLabels\"},{\"attributes\":{\"data\":{\"bottom\":{\"__ndarray__\":\"zczMzMzMSUDNzMzMzMxPQGZmZmZmplFAZmZmZmbmUkBmZmZmZqZRQM3MzMzMzE9AZmZmZmamUUDNzMzMzMxPQGZmZmZmplFAzczMzMzMT0BmZmZmZqZRQM3MzMzMTE1AzczMzMzMSUDNzMzMzExNQM3MzMzMzElAzczMzMzMQ0DNzMzMzMxJQGZmZmZm5lJAzczMzMzMSUDNzMzMzMxJQM3MzMzMzElAzczMzMzMT0DNzMzMzExNQM3MzMzMzE9AzczMzMzMT0DNzMzMzMxJQM3MzMzMzE9AZmZmZmbmUkDNzMzMzMxJQGZmZmZm5lJAzczMzMzMSUDNzMzMzMxPQM3MzMzMzElAzczMzMzMSUDNzMzMzMxPQGZmZmZmplFAZmZmZmamUUBmZmZmZqZRQM3MzMzMTEdAZmZmZmbmUEDNzMzMzMxPQM3MzMzMTE1AzczMzMzMT0DNzMzMzExNQM3MzMzMTE1AzczMzMzMT0DNzMzMzMxJQM3MzMzMTE1AZmZmZmamUUDNzMzMzExNQGZmZmZm5lJAzczMzMzMSUDNzMzMzMxJQM3MzMzMzElAZmZmZmamVEBmZmZmZqZUQGZmZmZm5lJAzczMzMzMSUDNzMzMzMxPQGZmZmZm5lJAzczMzMzMQ0BmZmZmZuZSQGZmZmZm5lJAZmZmZmbmUkDNzMzMzMxPQGZmZmZm5lJAZmZmZmYmVEBmZmZmZuZTQGZmZmZmZlNAzczMzMzMSkBmZmZmZqZRQM3MzMzMTE1AZmZmZmamVEBmZmZmZqZRQGZmZmZmplFAZmZmZmamUUDNzMzMzExPQM3MzMzMzE9AZmZmZmYmUUBmZmZmZiZRQGZmZmZmplBAzczMzMzMT0DNzMzMzMxOQM3MzMzMzE9AzczMzMxMTkDNzMzMzMxOQM3MzMzMTE1AZmZmZmbmUEDNzMzMzMxPQM3MzMzMTE1AzczMzMzMT0DNzMzMzExNQM3MzMzMzE9AzczMzMzMSUDNzMzMzExNQM3MzMzMzE9AzczMzMxMTUDNzMzMzMxOQM3MzMzMzE9AzczMzMxMTUBmZmZmZiZRQGZmZmZmplBAzczMzMzMT0DNzMzMzMxMQM3MzMzMTE1AzczMzMzMTkDNzMzMzMxPQM3MzMzMTE1AzczMzMxMT0DNzMzMzMxPQM3MzMzMTE1AzczMzMzMT0DNzMzMzExPQM3MzMzMTE1AzczMzMxMTEDNzMzMzExMQM3MzMzMTE1AzczMzMzMTkDNzMzMzMxPQGZmZmZmJlFAZmZmZmamUUBmZmZmZuZRQGZmZmZmplFAZmZmZmbmUkBmZmZmZqZRQGZmZmZmJlFAZmZmZmbmUEBmZmZmZiZRQGZmZmZm5lBAZmZmZmYmUUBmZmZmZqZRQGZmZmZm5lFAZmZmZmamUUBmZmZmZiZRQGZmZmZmplFAZmZmZmYmUUBmZmZmZqZRQGZmZmZm5lJAZmZmZmamUkBmZmZmZuZSQGZmZmZmZlJAZmZmZmamUUDNzMzMzMxPQGZmZmZm5lJAZmZmZmYmUUBmZmZmZqZRQGZmZmZmJlFAzczMzMzMT0BmZmZmZmZRQGZmZmZmplFAZmZmZmamUUBmZmZmZmZRQGZmZmZmplFAZmZmZmZmVEBmZmZmZiZUQGZmZmZm5lNAZmZmZmYmVEBmZmZmZiZRQGZmZmZm5lFAZmZmZmbmUkBmZmZmZmZSQGZmZmZmplFAZmZmZmamUUBmZmZmZqZRQGZmZmZmplFAZmZmZmamUUBmZmZmZqZRQGZmZmZmplJAZmZmZmbmUkBmZmZmZiZSQGZmZmZm5lJAZmZmZmYmUUBmZmZmZqZQQGZmZmZmJlFAZmZmZmamUEBmZmZmZiZQQM3MzMzMzE9AzczMzMzMTkDNzMzMzExPQM3MzMzMzE5AzczMzMxMTkDNzMzMzMxOQGZmZmZmplBAZmZmZmYmUUBmZmZmZqZQQM3MzMzMzE9AzczMzMzMTUDNzMzMzMxMQM3MzMzMTE1AzczMzMzMTUDNzMzMzMxOQM3MzMzMzE9AZmZmZmamUEBmZmZmZiZRQGZmZmZmplBAZmZmZmYmUUBmZmZmZqZQQGZmZmZmJlBAzczMzMzMT0DNzMzMzMxOQM3MzMzMTE9AzczMzMzMTkDNzMzMzMxOQM3MzMzMzE9AZmZmZmYmUEBmZmZmZqZQQGZmZmZmJlFAZmZmZmamUEDNzMzMzMxPQM3MzMzMzE5AzczMzMzMTUDNzMzMzExOQM3MzMzMzE5AzczMzMzMT0DNzMzMzMxOQM3MzMzMzE9AZmZmZmamUEBmZmZmZiZUQGZmZmZmplNAZmZmZmYmVEBmZmZmZqZTQGZmZmZmJlNAZmZmZmbmUkBmZmZmZmZSQGZmZmZmJlJAZmZmZmZmUkBmZmZmZuZSQGZmZmZmJlNAZmZmZmamU0BmZmZmZqZTQGZmZmZmZlNAZmZmZmamU0BmZmZmZiZTQGZmZmZm5lJAZmZmZmZmUkBmZmZmZiZSQGZmZmZmZlJAZmZmZmYmUkBmZmZmZiZSQGZmZmZmZlJAZmZmZmbmUkBmZmZmZiZUQGZmZmZm5lNAZmZmZmbmU0BmZmZmZqZTQGZmZmZmJlNAZmZmZmZmUkBmZmZmZuZRQGZmZmZmZlJAZmZmZmZmU0BmZmZmZqZTQGZmZmZmZlNAZmZmZmYmVEBmZmZmZqZTQGZmZmZmJlRAZmZmZmamU0BmZmZmZiZUQGZmZmZm5lJAZmZmZmamUUBmZmZmZuZRQGZmZmZmplFAZmZmZmZmUkBmZmZmZiZTQGZmZmZmplNAZmZmZmYmVEBmZmZmZqZTQA==\",\"dtype\":\"float64\",\"order\":\"little\",\"shape\":[266]},\"duration\":{\"__ndarray__\":\"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\",\"dtype\":\"float64\",\"order\":\"little\",\"shape\":[266]},\"end_time\":{\"__ndarray__\":\"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\",\"dtype\":\"float64\",\"order\":\"little\",\"shape\":[266]},\"fill_alpha\":{\"__ndarray__\":\"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\",\"dtype\":\"float64\",\"order\":\"little\",\"shape\":[266]},\"index\":[0,1,2,3,4,5,6,7,8,9,10,11,12,13,14,15,16,17,18,19,20,21,22,23,24,25,26,27,28,29,30,31,32,33,34,35,36,37,38,39,40,41,42,43,44,45,46,47,48,49,50,51,52,53,54,55,56,57,58,59,60,61,62,63,64,65,66,67,68,69,70,71,72,73,74,75,76,77,78,79,80,81,82,83,84,85,86,87,88,89,90,91,92,93,94,95,96,97,98,99,100,101,102,103,104,105,106,107,108,109,110,111,112,113,114,115,116,117,118,119,120,121,122,123,124,125,126,127,128,129,130,131,132,133,134,135,136,137,138,139,140,141,142,143,144,145,146,147,148,149,150,151,152,153,154,155,156,157,158,159,160,161,162,163,164,165,166,167,168,169,170,171,172,173,174,175,176,177,178,179,180,181,182,183,184,185,186,187,188,189,190,191,192,193,194,195,196,197,198,199,200,201,202,203,204,205,206,207,208,209,210,211,212,213,214,215,216,217,218,219,220,221,222,223,224,225,226,227,228,229,230,231,232,233,234,235,236,237,238,239,240,241,242,243,244,245,246,247,248,249,250,251,252,253,254,255,256,257,258,259,260,261,262,263,264,265],\"instrument\":[0,0,0,0,0,0,0,0,0,0,0,0,0,0,0,0,0,0,0,0,0,0,0,0,0,0,0,0,0,0,0,0,0,0,0,0,0,0,0,0,0,0,0,0,0,0,0,0,0,0,0,0,0,0,0,0,0,0,0,0,0,0,0,0,0,0,0,0,0,0,0,0,0,0,0,0,0,0,0,0,0,0,0,0,0,0,0,0,0,0,0,0,0,0,0,0,0,0,0,0,0,0,0,0,0,0,0,0,0,0,0,0,0,0,0,0,0,0,0,0,0,0,0,0,0,0,0,0,0,0,0,0,0,0,0,0,0,0,0,0,0,0,0,0,0,0,0,0,0,0,0,0,0,0,0,0,0,0,0,0,0,0,0,0,0,0,0,0,0,0,0,0,0,0,0,0,0,0,0,0,0,0,0,0,0,0,0,0,0,0,0,0,0,0,0,0,0,0,0,0,0,0,0,0,0,0,0,0,0,0,0,0,0,0,0,0,0,0,0,0,0,0,0,0,0,0,0,0,0,0,0,0,0,0,0,0,0,0,0,0,0,0,0,0,0,0,0,0,0,0,0,0,0,0,0,0,0,0,0,0,0,0,0,0,0,0],\"pitch\":[52,64,71,76,71,64,71,64,71,64,71,59,52,59,52,40,52,76,52,52,52,64,59,64,64,52,64,76,52,76,52,64,52,52,64,71,71,71,47,68,64,59,64,59,59,64,52,59,71,59,76,52,52,52,83,83,76,52,64,76,40,76,76,76,64,76,81,80,78,54,71,59,83,71,71,71,63,64,69,69,67,64,62,64,61,62,59,68,64,59,64,59,64,52,59,64,59,62,64,59,69,67,64,58,59,62,64,59,63,64,59,64,63,59,57,57,59,62,64,69,71,72,71,76,71,69,68,69,68,69,71,72,71,69,71,69,71,76,75,76,74,71,64,76,69,71,69,64,70,71,71,70,71,82,81,80,81,69,72,76,74,71,71,71,71,71,71,75,76,73,76,69,67,69,67,65,64,62,63,62,61,62,67,69,67,64,60,58,59,60,62,64,67,69,67,69,67,65,64,62,63,62,62,64,65,67,69,67,64,62,60,61,62,64,62,64,67,81,79,81,79,77,76,74,73,74,76,77,79,79,78,79,77,76,74,73,74,73,73,74,76,81,80,80,79,77,74,72,74,78,79,78,81,79,81,79,81,76,71,72,71,74,77,79,81,79],\"program\":[0,0,0,0,0,0,0,0,0,0,0,0,0,0,0,0,0,0,0,0,0,0,0,0,0,0,0,0,0,0,0,0,0,0,0,0,0,0,0,0,0,0,0,0,0,0,0,0,0,0,0,0,0,0,0,0,0,0,0,0,0,0,0,0,0,0,0,0,0,0,0,0,0,0,0,0,0,0,0,0,0,0,0,0,0,0,0,0,0,0,0,0,0,0,0,0,0,0,0,0,0,0,0,0,0,0,0,0,0,0,0,0,0,0,0,0,0,0,0,0,0,0,0,0,0,0,0,0,0,0,0,0,0,0,0,0,0,0,0,0,0,0,0,0,0,0,0,0,0,0,0,0,0,0,0,0,0,0,0,0,0,0,0,0,0,0,0,0,0,0,0,0,0,0,0,0,0,0,0,0,0,0,0,0,0,0,0,0,0,0,0,0,0,0,0,0,0,0,0,0,0,0,0,0,0,0,0,0,0,0,0,0,0,0,0,0,0,0,0,0,0,0,0,0,0,0,0,0,0,0,0,0,0,0,0,0,0,0,0,0,0,0,0,0,0,0,0,0,0,0,0,0,0,0,0,0,0,0,0,0,0,0,0,0,0,0],\"start_time\":{\"__ndarray__\":\"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\",\"dtype\":\"float64\",\"order\":\"little\",\"shape\":[266]},\"top\":{\"__ndarray__\":\"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\",\"dtype\":\"float64\",\"order\":\"little\",\"shape\":[266]},\"velocity\":[80,80,80,80,80,80,80,80,80,80,80,80,80,80,80,80,80,80,80,80,80,80,80,80,80,80,80,80,80,80,80,80,80,80,80,80,80,80,80,80,80,80,80,80,80,80,80,80,80,80,80,80,80,80,80,80,80,80,80,80,80,80,80,80,80,80,80,80,80,80,80,80,80,80,80,80,80,80,80,80,80,80,80,80,80,80,80,80,80,80,80,80,80,80,80,80,80,80,80,80,80,80,80,80,80,80,80,80,80,80,80,80,80,80,80,80,80,80,80,80,80,80,80,80,80,80,80,80,80,80,80,80,80,80,80,80,80,80,80,80,80,80,80,80,80,80,80,80,80,80,80,80,80,80,80,80,80,80,80,80,80,80,80,80,80,80,80,80,80,80,80,80,80,80,80,80,80,80,80,80,80,80,80,80,80,80,80,80,80,80,80,80,80,80,80,80,80,80,80,80,80,80,80,80,80,80,80,80,80,80,80,80,80,80,80,80,80,80,80,80,80,80,80,80,80,80,80,80,80,80,80,80,80,80,80,80,80,80,80,80,80,80,80,80,80,80,80,80,80,80,80,80,80,80,80,80,80,80,80,80,80,80,80,80,80,80]},\"selected\":{\"id\":\"1049\"},\"selection_policy\":{\"id\":\"1048\"}},\"id\":\"1034\",\"type\":\"ColumnDataSource\"},{\"attributes\":{},\"id\":\"1048\",\"type\":\"UnionRenderers\"},{\"attributes\":{\"interval\":12},\"id\":\"1033\",\"type\":\"SingleIntervalTicker\"},{\"attributes\":{\"axis\":{\"id\":\"1015\"},\"dimension\":1,\"ticker\":{\"id\":\"1033\"}},\"id\":\"1018\",\"type\":\"Grid\"},{\"attributes\":{},\"id\":\"1005\",\"type\":\"DataRange1d\"},{\"attributes\":{\"interval\":12},\"id\":\"1031\",\"type\":\"SingleIntervalTicker\"},{\"attributes\":{},\"id\":\"1003\",\"type\":\"DataRange1d\"},{\"attributes\":{},\"id\":\"1049\",\"type\":\"Selection\"},{\"attributes\":{\"axis\":{\"id\":\"1011\"},\"ticker\":null},\"id\":\"1014\",\"type\":\"Grid\"},{\"attributes\":{\"callback\":null,\"tooltips\":[[\"pitch\",\"@pitch\"],[\"program\",\"@program\"],[\"velo\",\"@velocity\"],[\"duration\",\"@duration\"],[\"start_time\",\"@start_time\"],[\"end_time\",\"@end_time\"],[\"velocity\",\"@velocity\"],[\"fill_alpha\",\"@fill_alpha\"]]},\"id\":\"1019\",\"type\":\"HoverTool\"},{\"attributes\":{},\"id\":\"1043\",\"type\":\"BasicTickFormatter\"},{\"attributes\":{\"source\":{\"id\":\"1034\"}},\"id\":\"1039\",\"type\":\"CDSView\"},{\"attributes\":{},\"id\":\"1009\",\"type\":\"LinearScale\"},{\"attributes\":{},\"id\":\"1007\",\"type\":\"LinearScale\"},{\"attributes\":{},\"id\":\"1046\",\"type\":\"BasicTickFormatter\"},{\"attributes\":{},\"id\":\"1041\",\"type\":\"Title\"}],\"root_ids\":[\"1002\"]},\"title\":\"Bokeh Application\",\"version\":\"2.3.3\"}};\n",
              "  var render_items = [{\"docid\":\"34477ef8-157e-468b-a77a-3cec84967dad\",\"root_ids\":[\"1002\"],\"roots\":{\"1002\":\"474bd5f7-10fa-44b4-9457-e9ed36802555\"}}];\n",
              "  root.Bokeh.embed.embed_items_notebook(docs_json, render_items);\n",
              "\n",
              "  }\n",
              "  if (root.Bokeh !== undefined) {\n",
              "    embed_document(root);\n",
              "  } else {\n",
              "    var attempts = 0;\n",
              "    var timer = setInterval(function(root) {\n",
              "      if (root.Bokeh !== undefined) {\n",
              "        clearInterval(timer);\n",
              "        embed_document(root);\n",
              "      } else {\n",
              "        attempts++;\n",
              "        if (attempts > 100) {\n",
              "          clearInterval(timer);\n",
              "          console.log(\"Bokeh: ERROR: Unable to run BokehJS code because BokehJS library is missing\");\n",
              "        }\n",
              "      }\n",
              "    }, 10, root)\n",
              "  }\n",
              "})(window);"
            ],
            "application/vnd.bokehjs_exec.v0+json": ""
          },
          "metadata": {
            "application/vnd.bokehjs_exec.v0+json": {
              "id": "1002"
            }
          }
        }
      ]
    },
    {
      "cell_type": "markdown",
      "source": [
        "Download mean MIDI file."
      ],
      "metadata": {
        "id": "AmQtWVvbWTHq"
      }
    },
    {
      "cell_type": "code",
      "source": [
        "download(mel_16bar_mean, '%s_mean.mid' % mel_interp_model)"
      ],
      "metadata": {
        "colab": {
          "base_uri": "https://localhost:8080/",
          "height": 17
        },
        "id": "647h_EZxPyWQ",
        "outputId": "8f4acd8e-4637-4fa7-a971-4da623bfc39d"
      },
      "execution_count": null,
      "outputs": [
        {
          "output_type": "display_data",
          "data": {
            "application/javascript": [
              "\n",
              "    async function download(id, filename, size) {\n",
              "      if (!google.colab.kernel.accessAllowed) {\n",
              "        return;\n",
              "      }\n",
              "      const div = document.createElement('div');\n",
              "      const label = document.createElement('label');\n",
              "      label.textContent = `Downloading \"${filename}\": `;\n",
              "      div.appendChild(label);\n",
              "      const progress = document.createElement('progress');\n",
              "      progress.max = size;\n",
              "      div.appendChild(progress);\n",
              "      document.body.appendChild(div);\n",
              "\n",
              "      const buffers = [];\n",
              "      let downloaded = 0;\n",
              "\n",
              "      const channel = await google.colab.kernel.comms.open(id);\n",
              "      // Send a message to notify the kernel that we're ready.\n",
              "      channel.send({})\n",
              "\n",
              "      for await (const message of channel.messages) {\n",
              "        // Send a message to notify the kernel that we're ready.\n",
              "        channel.send({})\n",
              "        if (message.buffers) {\n",
              "          for (const buffer of message.buffers) {\n",
              "            buffers.push(buffer);\n",
              "            downloaded += buffer.byteLength;\n",
              "            progress.value = downloaded;\n",
              "          }\n",
              "        }\n",
              "      }\n",
              "      const blob = new Blob(buffers, {type: 'application/binary'});\n",
              "      const a = document.createElement('a');\n",
              "      a.href = window.URL.createObjectURL(blob);\n",
              "      a.download = filename;\n",
              "      div.appendChild(a);\n",
              "      a.click();\n",
              "      div.remove();\n",
              "    }\n",
              "  "
            ],
            "text/plain": [
              "<IPython.core.display.Javascript object>"
            ]
          },
          "metadata": {}
        },
        {
          "output_type": "display_data",
          "data": {
            "application/javascript": [
              "download(\"download_355dbd53-da61-467b-9497-01ff93aa4b25\", \"hierdec_mel_16bar_mean.mid\", 653)"
            ],
            "text/plain": [
              "<IPython.core.display.Javascript object>"
            ]
          },
          "metadata": {}
        }
      ]
    }
  ]
}