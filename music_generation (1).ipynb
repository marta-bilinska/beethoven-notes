{
  "nbformat": 4,
  "nbformat_minor": 0,
  "metadata": {
    "colab": {
      "name": "music_generation.ipynb",
      "provenance": []
    },
    "kernelspec": {
      "name": "python3",
      "display_name": "Python 3"
    },
    "language_info": {
      "name": "python"
    }
  },
  "cells": [
    {
      "cell_type": "code",
      "source": [
        "!pip install music21==5.5.0\n",
        "!pip install tensorflow==2.7.0\n",
        "!pip install keras==2.7.0\n",
        "!pip install pretty_midi"
      ],
      "metadata": {
        "colab": {
          "base_uri": "https://localhost:8080/"
        },
        "id": "8J8JLBNMWZ1E",
        "outputId": "4de922de-e53f-4fd8-e77c-2ebc045f26bb"
      },
      "execution_count": 2,
      "outputs": [
        {
          "output_type": "stream",
          "name": "stdout",
          "text": [
            "Requirement already satisfied: music21==5.5.0 in /usr/local/lib/python3.7/dist-packages (5.5.0)\n",
            "Requirement already satisfied: tensorflow==2.7.0 in /usr/local/lib/python3.7/dist-packages (2.7.0)\n",
            "Requirement already satisfied: keras<2.8,>=2.7.0rc0 in /usr/local/lib/python3.7/dist-packages (from tensorflow==2.7.0) (2.7.0)\n",
            "Requirement already satisfied: numpy>=1.14.5 in /usr/local/lib/python3.7/dist-packages (from tensorflow==2.7.0) (1.19.5)\n",
            "Requirement already satisfied: h5py>=2.9.0 in /usr/local/lib/python3.7/dist-packages (from tensorflow==2.7.0) (3.1.0)\n",
            "Requirement already satisfied: keras-preprocessing>=1.1.1 in /usr/local/lib/python3.7/dist-packages (from tensorflow==2.7.0) (1.1.2)\n",
            "Requirement already satisfied: google-pasta>=0.1.1 in /usr/local/lib/python3.7/dist-packages (from tensorflow==2.7.0) (0.2.0)\n",
            "Requirement already satisfied: six>=1.12.0 in /usr/local/lib/python3.7/dist-packages (from tensorflow==2.7.0) (1.15.0)\n",
            "Requirement already satisfied: wrapt>=1.11.0 in /usr/local/lib/python3.7/dist-packages (from tensorflow==2.7.0) (1.13.3)\n",
            "Requirement already satisfied: absl-py>=0.4.0 in /usr/local/lib/python3.7/dist-packages (from tensorflow==2.7.0) (0.12.0)\n",
            "Requirement already satisfied: tensorboard~=2.6 in /usr/local/lib/python3.7/dist-packages (from tensorflow==2.7.0) (2.7.0)\n",
            "Requirement already satisfied: opt-einsum>=2.3.2 in /usr/local/lib/python3.7/dist-packages (from tensorflow==2.7.0) (3.3.0)\n",
            "Requirement already satisfied: typing-extensions>=3.6.6 in /usr/local/lib/python3.7/dist-packages (from tensorflow==2.7.0) (3.10.0.2)\n",
            "Requirement already satisfied: protobuf>=3.9.2 in /usr/local/lib/python3.7/dist-packages (from tensorflow==2.7.0) (3.17.3)\n",
            "Requirement already satisfied: astunparse>=1.6.0 in /usr/local/lib/python3.7/dist-packages (from tensorflow==2.7.0) (1.6.3)\n",
            "Requirement already satisfied: gast<0.5.0,>=0.2.1 in /usr/local/lib/python3.7/dist-packages (from tensorflow==2.7.0) (0.4.0)\n",
            "Requirement already satisfied: libclang>=9.0.1 in /usr/local/lib/python3.7/dist-packages (from tensorflow==2.7.0) (12.0.0)\n",
            "Requirement already satisfied: tensorflow-io-gcs-filesystem>=0.21.0 in /usr/local/lib/python3.7/dist-packages (from tensorflow==2.7.0) (0.23.1)\n",
            "Requirement already satisfied: grpcio<2.0,>=1.24.3 in /usr/local/lib/python3.7/dist-packages (from tensorflow==2.7.0) (1.43.0)\n",
            "Requirement already satisfied: flatbuffers<3.0,>=1.12 in /usr/local/lib/python3.7/dist-packages (from tensorflow==2.7.0) (2.0)\n",
            "Requirement already satisfied: termcolor>=1.1.0 in /usr/local/lib/python3.7/dist-packages (from tensorflow==2.7.0) (1.1.0)\n",
            "Requirement already satisfied: wheel<1.0,>=0.32.0 in /usr/local/lib/python3.7/dist-packages (from tensorflow==2.7.0) (0.37.1)\n",
            "Requirement already satisfied: tensorflow-estimator<2.8,~=2.7.0rc0 in /usr/local/lib/python3.7/dist-packages (from tensorflow==2.7.0) (2.7.0)\n",
            "Requirement already satisfied: cached-property in /usr/local/lib/python3.7/dist-packages (from h5py>=2.9.0->tensorflow==2.7.0) (1.5.2)\n",
            "Requirement already satisfied: werkzeug>=0.11.15 in /usr/local/lib/python3.7/dist-packages (from tensorboard~=2.6->tensorflow==2.7.0) (1.0.1)\n",
            "Requirement already satisfied: setuptools>=41.0.0 in /usr/local/lib/python3.7/dist-packages (from tensorboard~=2.6->tensorflow==2.7.0) (57.4.0)\n",
            "Requirement already satisfied: tensorboard-data-server<0.7.0,>=0.6.0 in /usr/local/lib/python3.7/dist-packages (from tensorboard~=2.6->tensorflow==2.7.0) (0.6.1)\n",
            "Requirement already satisfied: requests<3,>=2.21.0 in /usr/local/lib/python3.7/dist-packages (from tensorboard~=2.6->tensorflow==2.7.0) (2.23.0)\n",
            "Requirement already satisfied: tensorboard-plugin-wit>=1.6.0 in /usr/local/lib/python3.7/dist-packages (from tensorboard~=2.6->tensorflow==2.7.0) (1.8.1)\n",
            "Requirement already satisfied: markdown>=2.6.8 in /usr/local/lib/python3.7/dist-packages (from tensorboard~=2.6->tensorflow==2.7.0) (3.3.6)\n",
            "Requirement already satisfied: google-auth<3,>=1.6.3 in /usr/local/lib/python3.7/dist-packages (from tensorboard~=2.6->tensorflow==2.7.0) (1.35.0)\n",
            "Requirement already satisfied: google-auth-oauthlib<0.5,>=0.4.1 in /usr/local/lib/python3.7/dist-packages (from tensorboard~=2.6->tensorflow==2.7.0) (0.4.6)\n",
            "Requirement already satisfied: rsa<5,>=3.1.4 in /usr/local/lib/python3.7/dist-packages (from google-auth<3,>=1.6.3->tensorboard~=2.6->tensorflow==2.7.0) (4.8)\n",
            "Requirement already satisfied: cachetools<5.0,>=2.0.0 in /usr/local/lib/python3.7/dist-packages (from google-auth<3,>=1.6.3->tensorboard~=2.6->tensorflow==2.7.0) (4.2.4)\n",
            "Requirement already satisfied: pyasn1-modules>=0.2.1 in /usr/local/lib/python3.7/dist-packages (from google-auth<3,>=1.6.3->tensorboard~=2.6->tensorflow==2.7.0) (0.2.8)\n",
            "Requirement already satisfied: requests-oauthlib>=0.7.0 in /usr/local/lib/python3.7/dist-packages (from google-auth-oauthlib<0.5,>=0.4.1->tensorboard~=2.6->tensorflow==2.7.0) (1.3.0)\n",
            "Requirement already satisfied: importlib-metadata>=4.4 in /usr/local/lib/python3.7/dist-packages (from markdown>=2.6.8->tensorboard~=2.6->tensorflow==2.7.0) (4.10.0)\n",
            "Requirement already satisfied: zipp>=0.5 in /usr/local/lib/python3.7/dist-packages (from importlib-metadata>=4.4->markdown>=2.6.8->tensorboard~=2.6->tensorflow==2.7.0) (3.7.0)\n",
            "Requirement already satisfied: pyasn1<0.5.0,>=0.4.6 in /usr/local/lib/python3.7/dist-packages (from pyasn1-modules>=0.2.1->google-auth<3,>=1.6.3->tensorboard~=2.6->tensorflow==2.7.0) (0.4.8)\n",
            "Requirement already satisfied: certifi>=2017.4.17 in /usr/local/lib/python3.7/dist-packages (from requests<3,>=2.21.0->tensorboard~=2.6->tensorflow==2.7.0) (2021.10.8)\n",
            "Requirement already satisfied: urllib3!=1.25.0,!=1.25.1,<1.26,>=1.21.1 in /usr/local/lib/python3.7/dist-packages (from requests<3,>=2.21.0->tensorboard~=2.6->tensorflow==2.7.0) (1.24.3)\n",
            "Requirement already satisfied: chardet<4,>=3.0.2 in /usr/local/lib/python3.7/dist-packages (from requests<3,>=2.21.0->tensorboard~=2.6->tensorflow==2.7.0) (3.0.4)\n",
            "Requirement already satisfied: idna<3,>=2.5 in /usr/local/lib/python3.7/dist-packages (from requests<3,>=2.21.0->tensorboard~=2.6->tensorflow==2.7.0) (2.10)\n",
            "Requirement already satisfied: oauthlib>=3.0.0 in /usr/local/lib/python3.7/dist-packages (from requests-oauthlib>=0.7.0->google-auth-oauthlib<0.5,>=0.4.1->tensorboard~=2.6->tensorflow==2.7.0) (3.1.1)\n",
            "Requirement already satisfied: keras==2.7.0 in /usr/local/lib/python3.7/dist-packages (2.7.0)\n",
            "Collecting pretty_midi\n",
            "  Downloading pretty_midi-0.2.9.tar.gz (5.6 MB)\n",
            "\u001b[K     |████████████████████████████████| 5.6 MB 6.5 MB/s \n",
            "\u001b[?25hRequirement already satisfied: numpy>=1.7.0 in /usr/local/lib/python3.7/dist-packages (from pretty_midi) (1.19.5)\n",
            "Collecting mido>=1.1.16\n",
            "  Downloading mido-1.2.10-py2.py3-none-any.whl (51 kB)\n",
            "\u001b[K     |████████████████████████████████| 51 kB 6.6 MB/s \n",
            "\u001b[?25hRequirement already satisfied: six in /usr/local/lib/python3.7/dist-packages (from pretty_midi) (1.15.0)\n",
            "Building wheels for collected packages: pretty-midi\n",
            "  Building wheel for pretty-midi (setup.py) ... \u001b[?25l\u001b[?25hdone\n",
            "  Created wheel for pretty-midi: filename=pretty_midi-0.2.9-py3-none-any.whl size=5591955 sha256=8f7e8bc4ee4bdc00ad59432ae2417673507a032ad42fed9c9803f495c96ce7f9\n",
            "  Stored in directory: /root/.cache/pip/wheels/ad/74/7c/a06473ca8dcb63efb98c1e67667ce39d52100f837835ea18fa\n",
            "Successfully built pretty-midi\n",
            "Installing collected packages: mido, pretty-midi\n",
            "Successfully installed mido-1.2.10 pretty-midi-0.2.9\n"
          ]
        }
      ]
    },
    {
      "cell_type": "code",
      "source": [
        "import glob\n",
        "import collections\n",
        "import datetime\n",
        "# import fluidsynth\n",
        "import numpy as np\n",
        "import pathlib\n",
        "import pandas as pd\n",
        "import pretty_midi\n",
        "import seaborn as sns\n",
        "from IPython import display\n",
        "from matplotlib import pyplot as plt\n",
        "from typing import Dict, List, Optional, Sequence, Tuple\n",
        "from music21 import converter, instrument, note, chord, stream\n",
        "from keras.utils.np_utils import to_categorical\n",
        "import tensorflow as tf\n",
        "from tensorflow.keras import Sequential\n",
        "from tensorflow.keras.layers import Dropout, LSTM, Dense, Activation\n",
        "from tensorflow.keras.callbacks import ModelCheckpoint"
      ],
      "metadata": {
        "id": "8zO85UAfWb0i"
      },
      "execution_count": 3,
      "outputs": []
    },
    {
      "cell_type": "code",
      "source": [
        "def read_midi(file_):\n",
        "    midi = converter.parse(file_)\n",
        "    parts = instrument.partitionByInstrument(midi)\n",
        "    if parts:\n",
        "        notes = parts.parts[0].recurse()\n",
        "    else:\n",
        "        notes = midi.flat.notes\n",
        "    return notes\n",
        "\n",
        "\n",
        "def read_notes(files):\n",
        "    notes = []\n",
        "    for f in glob.glob(files):\n",
        "        notes_to_parse = read_midi(f)\n",
        "        for element in notes_to_parse:\n",
        "            if isinstance(element, note.Note):\n",
        "                notes.append(str(element.pitch))\n",
        "            elif isinstance(element, chord.Chord):\n",
        "                notes.append('.'.join(str(n) for n in element.normalOrder))\n",
        "            else:\n",
        "                continue\n",
        "    return notes\n",
        "\n",
        "\n",
        "def midi_to_notes(midi_file: str) -> pd.DataFrame:\n",
        "  pm = pretty_midi.PrettyMIDI(midi_file)\n",
        "  instrument = pm.instruments[0]\n",
        "  notes = collections.defaultdict(list)\n",
        "  sorted_notes = sorted(instrument.notes, key=lambda note: note.start)\n",
        "  prev_start = sorted_notes[0].start\n",
        "\n",
        "  for note in sorted_notes:\n",
        "    start = note.start\n",
        "    end = note.end\n",
        "    notes['pitch'].append(note.pitch)\n",
        "    notes['start'].append(start)\n",
        "    notes['end'].append(end)\n",
        "    notes['step'].append(start - prev_start)\n",
        "    notes['duration'].append(end - start)\n",
        "    prev_start = start\n",
        "\n",
        "  return pd.DataFrame({name: np.array(value) for name, value in notes.items()})\n",
        "\n"
      ],
      "metadata": {
        "id": "2VUENHXoWf4p"
      },
      "execution_count": 13,
      "outputs": []
    },
    {
      "cell_type": "code",
      "source": [
        "notes = read_notes(\"/content/drive/MyDrive/ai/project/project/tschai/*.mid\")\n",
        "len(notes)"
      ],
      "metadata": {
        "colab": {
          "base_uri": "https://localhost:8080/"
        },
        "id": "bfqekAuXWjns",
        "outputId": "67b1d9ed-edd3-4401-9cf0-872e93fb9502"
      },
      "execution_count": 9,
      "outputs": [
        {
          "output_type": "execute_result",
          "data": {
            "text/plain": [
              "12521"
            ]
          },
          "metadata": {},
          "execution_count": 9
        }
      ]
    },
    {
      "cell_type": "code",
      "source": [
        "\n",
        "# This chunk of code is taken from official Tensorflow documentation\n",
        "def plot_piano_roll(notes: pd.DataFrame, count: Optional[int] = None):\n",
        "  if count:\n",
        "    title = f'First {count} notes'\n",
        "  else:\n",
        "    title = f'Whole track'\n",
        "    count = len(notes['pitch'])\n",
        "  plt.figure(figsize=(20, 4))\n",
        "  plot_pitch = np.stack([notes['pitch'], notes['pitch']], axis=0)\n",
        "  plot_start_stop = np.stack([notes['start'], notes['end']], axis=0)\n",
        "  plt.plot(\n",
        "      plot_start_stop[:, :count], plot_pitch[:, :count], color=\"b\", marker=\".\")\n",
        "  plt.xlabel('Time [s]')\n",
        "  plt.ylabel('Pitch')\n",
        "  _ = plt.title(title)\n",
        "\n",
        "def plot_distributions(notes: pd.DataFrame, drop_percentile=2.5):\n",
        "  plt.figure(figsize=[15, 5])\n",
        "  plt.subplot(1, 3, 1)\n",
        "  sns.histplot(notes, x=\"pitch\", bins=20)\n",
        "\n",
        "  plt.subplot(1, 3, 2)\n",
        "  max_step = np.percentile(notes['step'], 100 - drop_percentile)\n",
        "  sns.histplot(notes, x=\"step\", bins=np.linspace(0, max_step, 21))\n",
        "  \n",
        "  plt.subplot(1, 3, 3)\n",
        "  max_duration = np.percentile(notes['duration'], 100 - drop_percentile)\n",
        "  sns.histplot(notes, x=\"duration\", bins=np.linspace(0, max_duration, 21))"
      ],
      "metadata": {
        "id": "L6l4x8cmOjFa"
      },
      "execution_count": 16,
      "outputs": []
    },
    {
      "cell_type": "code",
      "source": [
        "raw = midi_to_notes(\"/content/drive/MyDrive/ai/project/project/tschai/ty_juni.mid\")\n",
        "plot_piano_roll(raw, count=100)"
      ],
      "metadata": {
        "colab": {
          "base_uri": "https://localhost:8080/",
          "height": 294
        },
        "id": "oAHB8hGuOl3H",
        "outputId": "9d566124-233a-40e9-f244-67171ce84948"
      },
      "execution_count": 17,
      "outputs": [
        {
          "output_type": "display_data",
          "data": {
            "image/png": "[encoded data removed]",
            "text/plain": [
              "<Figure size 1440x288 with 1 Axes>"
            ]
          },
          "metadata": {
            "image/png": {
              "width": 1163,
              "height": 277
            },
            "needs_background": "light"
          }
        }
      ]
    },
    {
      "cell_type": "code",
      "source": [
        "plot_distributions(raw)"
      ],
      "metadata": {
        "colab": {
          "base_uri": "https://localhost:8080/",
          "height": 333
        },
        "id": "WNuOiEzjNtUf",
        "outputId": "d565cb61-2402-42a3-9697-2d94e584ad2a"
      },
      "execution_count": 18,
      "outputs": [
        {
          "output_type": "display_data",
          "data": {
            "image/png": "[encoded data removed]",
            "text/plain": [
              "<Figure size 1080x360 with 3 Axes>"
            ]
          },
          "metadata": {
            "image/png": {
              "width": 891,
              "height": 316
            },
            "needs_background": "light"
          }
        }
      ]
    },
    {
      "cell_type": "markdown",
      "source": [
        "## Generating music by predicting fixed-length pitches using LSTM"
      ],
      "metadata": {
        "id": "BuTixP_qoNSz"
      }
    },
    {
      "cell_type": "code",
      "source": [
        "def create_notes_input_and_output(sequence_length, notes):\n",
        "\n",
        "    note_to_int = dict((note, number) for number, note in enumerate(pitchnames))\n",
        "    network_input = []\n",
        "    network_output = []\n",
        "\n",
        "    for i in range(0, len(notes) - sequence_length):\n",
        "        sequence_in = notes[i:i + sequence_length]\n",
        "        sequence_out = notes[i + sequence_length]\n",
        "        network_input.append([note_to_int[char] for char in sequence_in])\n",
        "        network_output.append(note_to_int[sequence_out])\n",
        "\n",
        "    #Formulating inputs and outputs to be compatible with the model\n",
        "    n_patterns = len(network_input)\n",
        "    network_input = numpy.reshape(network_input, (n_patterns, sequence_length, 1))\n",
        "    network_input = network_input / float(n_vocab)\n",
        "\n",
        "    network_output = to_categorical(network_output)\n",
        "    return network_input, network_output"
      ],
      "metadata": {
        "id": "UgL15WGLWxvk"
      },
      "execution_count": 5,
      "outputs": []
    },
    {
      "cell_type": "code",
      "source": [
        "\n",
        "sequence_length = 100\n",
        "pitchnames = sorted(set(item for item in notes))\n",
        "n_vocab = len(pitchnames)\n",
        "\n",
        "network_input, network_output = create_notes_input_and_output(sequence_length, notes)"
      ],
      "metadata": {
        "id": "7QY-h9CrW57g"
      },
      "execution_count": 7,
      "outputs": []
    },
    {
      "cell_type": "code",
      "source": [
        "# Defining the model\n",
        "\n",
        "def define_the_model_3LSTM():\n",
        "    model = Sequential()\n",
        "    model.add(LSTM(\n",
        "        256,\n",
        "        input_shape=(network_input.shape[1], network_input.shape[2]),\n",
        "        return_sequences=True\n",
        "    ))\n",
        "    model.add(Dropout(0.3))\n",
        "    model.add(LSTM(512, return_sequences=True))\n",
        "\n",
        "    model.add(Dropout(0.3))\n",
        "    model.add(LSTM(256))\n",
        "\n",
        "    model.add(Dense(256))\n",
        "    model.add(Dropout(0.3))\n",
        "    model.add(Dense(n_vocab))\n",
        "    model.add(Activation('softmax'))\n",
        "    model.compile(loss='categorical_crossentropy', optimizer='rmsprop')\n",
        "    return model\n",
        "\n",
        "def define_the_model_2LSTM():\n",
        "    model = Sequential()\n",
        "    model.add(LSTM(\n",
        "        256,\n",
        "        input_shape=(network_input.shape[1], network_input.shape[2]),\n",
        "        return_sequences=True\n",
        "    ))\n",
        "    model.add(Dropout(0.3))\n",
        "    model.add(LSTM(256))\n",
        "    \n",
        "    model.add(Dense(256))\n",
        "    model.add(Dropout(0.3))\n",
        "    model.add(Dense(n_vocab))\n",
        "    model.add(Activation('softmax'))\n",
        "    model.compile(loss='categorical_crossentropy', optimizer='rmsprop')\n",
        "    return model\n",
        "\n",
        "model=None\n",
        "model = define_the_model_3LSTM()"
      ],
      "metadata": {
        "id": "ez-RJ8YjW_aY"
      },
      "execution_count": 14,
      "outputs": []
    },
    {
      "cell_type": "code",
      "source": [
        "# Training the model\n",
        "\n",
        "filepath = \"./checkpoints/tschai/test/weights-improvement-{epoch:02d}-{loss:.4f}-bigger.hdf5\"\n",
        "checkpoint = ModelCheckpoint(\n",
        "    filepath, monitor='loss', \n",
        "    verbose=0,        \n",
        "    save_best_only=True,        \n",
        "    mode='min'\n",
        ")    \n",
        "callbacks_list = [checkpoint]     \n",
        "model.fit(network_input, network_output, epochs=1, batch_size=64, callbacks=callbacks_list)"
      ],
      "metadata": {
        "colab": {
          "base_uri": "https://localhost:8080/"
        },
        "id": "TsHaUWOwXDJa",
        "outputId": "34217e43-3b66-4068-9141-14c39bf831ff"
      },
      "execution_count": 15,
      "outputs": [
        {
          "output_type": "stream",
          "name": "stdout",
          "text": [
            "195/195 [==============================] - 631s 3s/step - loss: 4.7545\n"
          ]
        },
        {
          "output_type": "execute_result",
          "data": {
            "text/plain": [
              "<keras.callbacks.History at 0x7fb093234090>"
            ]
          },
          "metadata": {},
          "execution_count": 15
        }
      ]
    },
    {
      "cell_type": "code",
      "source": [
        "# Trying out different sequence lengths\n",
        "\n",
        "for sequence_len in (50, 100, 150):\n",
        "  network_input, network_output = create_notes_input_and_output(sequence_length, notes)\n",
        "\n",
        "  define_the_model_3LSTM()\n",
        "\n",
        "  # Trying out model with different number of LSTM layers\n",
        "  # define_the_model_2LSTM()\n",
        "\n",
        "  filepath = f\"./checkpoints/tschai/test/sequence_len={sequence_len}-weights-improvement-{epoch:02d}-{loss:.4f}-bigger.hdf5\"\n",
        "  checkpoint = ModelCheckpoint(\n",
        "      filepath, monitor='loss', \n",
        "      verbose=0,        \n",
        "      save_best_only=True,        \n",
        "      mode='min'\n",
        "  )    \n",
        "  callbacks_list = [checkpoint]     \n",
        "  model.fit(network_input, network_output, epochs=100, batch_size=64, callbacks=callbacks_list)\n",
        "\n"
      ],
      "metadata": {
        "id": "iLR45iaOY4vl"
      },
      "execution_count": null,
      "outputs": []
    },
    {
      "cell_type": "code",
      "source": [
        "# Loading the weights into the model\n",
        "\n",
        "model = define_the_model()\n",
        "model.load_weights('/Users/Marta/Desktop/AI/project/checkpoints/tschai/regular_model_seq_100/weights-improvement-34-0.0543-bigger.hdf5')"
      ],
      "metadata": {
        "id": "1Uy9xtuDXbKF"
      },
      "execution_count": null,
      "outputs": []
    },
    {
      "cell_type": "code",
      "source": [
        "notes_num = 500\n",
        "start = numpy.random.randint(0, len(network_input)-1)\n",
        "\n",
        "def predict_notes(start, number_of_notes):\n",
        "    int_to_note = dict((number, note) for number, note in enumerate(pitchnames))\n",
        "    pattern = network_input[start]\n",
        "    prediction_output = []\n",
        "\n",
        "    for note_index in range(number_of_notes):\n",
        "        prediction_input = numpy.reshape(pattern, (1, len(pattern), 1))\n",
        "        prediction_input = prediction_input / float(n_vocab)\n",
        "        prediction = model.predict(prediction_input, verbose=0)\n",
        "\n",
        "        indexes = numpy.argsort(-prediction)[0][:3]\n",
        "        index = indexes[0]\n",
        "\n",
        "        result = int_to_note[index]\n",
        "        prediction_output.append(result)\n",
        "        pattern = numpy.append(pattern, index)\n",
        "        pattern = pattern[1:len(pattern)]\n",
        "    return prediction_output\n",
        "\n",
        "\n",
        "prediction_output = predict_notes(start, notes_num)"
      ],
      "metadata": {
        "id": "so_SX31YavQy"
      },
      "execution_count": 16,
      "outputs": []
    },
    {
      "cell_type": "code",
      "source": [
        "def create_new_note_sequence(prediction_output, offset_step):\n",
        "    offset = 0\n",
        "    output_notes = []\n",
        "\n",
        "    for pattern in prediction_output:\n",
        "        if ('.' in pattern) or pattern.isdigit():\n",
        "            notes_in_chord = pattern.split('.')\n",
        "            notes = []\n",
        "            for current_note in notes_in_chord:\n",
        "                new_note = note.Note(int(current_note))\n",
        "                new_note.storedInstrument = instrument.Piano()\n",
        "                notes.append(new_note)\n",
        "            new_chord = chord.Chord(notes)\n",
        "            new_chord.offset = offset\n",
        "            output_notes.append(new_chord)\n",
        "        else:\n",
        "            new_note = note.Note(pattern)\n",
        "            new_note.offset = offset\n",
        "            new_note.storedInstrument = instrument.Piano()\n",
        "            output_notes.append(new_note)\n",
        "        offset += offset_step\n",
        "    return output_notes\n",
        "\n",
        "output_notes = create_new_note_sequence(prediction_output, 0.5)"
      ],
      "metadata": {
        "id": "kBpg2mrta0ug"
      },
      "execution_count": 17,
      "outputs": []
    },
    {
      "cell_type": "code",
      "source": [
        "def write_notes_to_midi(output_notes, filename):\n",
        "  midi_stream = stream.Stream(output_notes)\n",
        "  midi_stream.write('midi', fp=filename)"
      ],
      "metadata": {
        "id": "-BlaXdLha4Mq"
      },
      "execution_count": 19,
      "outputs": []
    },
    {
      "cell_type": "code",
      "source": [
        "write_notes_to_midi(output_notes, './checkpoints/tschai/test/test_output?.mid')"
      ],
      "metadata": {
        "id": "ayJYYo6sa-4q"
      },
      "execution_count": 20,
      "outputs": []
    },
    {
      "cell_type": "markdown",
      "source": [
        "### Generating music by predicting pitches, duration and offset of each note or chord"
      ],
      "metadata": {
        "id": "A2yYcWaOoJgx"
      }
    },
    {
      "cell_type": "code",
      "source": [
        "# The following chunk of code was taken from the official\n",
        "# Tensorflow music generation tutorial with a couple of modifications.\n",
        "\n",
        "def midi_to_notes(midi_file: str) -> pd.DataFrame:\n",
        "  pm = pretty_midi.PrettyMIDI(midi_file)\n",
        "  instrument = pm.instruments[0]\n",
        "  notes = collections.defaultdict(list)\n",
        "\n",
        "  # Sort the notes by start time\n",
        "  sorted_notes = sorted(instrument.notes, key=lambda note: note.start)\n",
        "  prev_start = sorted_notes[0].start\n",
        "\n",
        "  for note in sorted_notes:\n",
        "    start = note.start\n",
        "    end = note.end\n",
        "    notes['pitch'].append(note.pitch)\n",
        "    notes['start'].append(start)\n",
        "    notes['end'].append(end)\n",
        "    notes['step'].append(start - prev_start)\n",
        "    notes['duration'].append(end - start)\n",
        "    prev_start = start\n",
        "\n",
        "  return pd.DataFrame({name: np.array(value) for name, value in notes.items()})\n",
        "\n",
        "\n",
        "def create_sequences(\n",
        "    dataset: tf.data.Dataset, \n",
        "    seq_length: int,\n",
        "    vocab_size = 128,\n",
        ") -> tf.data.Dataset:\n",
        "  \"\"\"Returns TF Dataset of sequence and label examples.\"\"\"\n",
        "  seq_length = seq_length+1\n",
        "\n",
        "  # Take 1 extra for the labels\n",
        "  windows = dataset.window(seq_length, shift=2, stride=1,\n",
        "                              drop_remainder=True)\n",
        "\n",
        "  # `flat_map` flattens the\" dataset of datasets\" into a dataset of tensors\n",
        "  flatten = lambda x: x.batch(seq_length, drop_remainder=True)\n",
        "  sequences = windows.flat_map(flatten)\n",
        "  \n",
        "  # Normalize note pitch\n",
        "  def scale_pitch(x):\n",
        "    x = x/[vocab_size,1.0,1.0]\n",
        "    return x\n",
        "\n",
        "  # Split the labels\n",
        "  def split_labels(sequences):\n",
        "    inputs = sequences[:-1]\n",
        "    labels_dense = sequences[-1]\n",
        "    labels = {key:labels_dense[i] for i,key in enumerate(key_order)}\n",
        "\n",
        "    return scale_pitch(inputs), labels\n",
        "\n",
        "  return sequences.map(split_labels, num_parallel_calls=tf.data.AUTOTUNE)\n",
        "\n",
        "def predict_next_note(\n",
        "    notes: np.ndarray, \n",
        "    keras_model: tf.keras.Model, \n",
        "    temperature: float = 1.0) -> int:\n",
        "    \"\"\"Generates a note IDs using a trained sequence model.\"\"\"\n",
        "\n",
        "    assert temperature > 0\n",
        "\n",
        "    # Add batch dimension\n",
        "    inputs = tf.expand_dims(notes, 0)\n",
        "\n",
        "    predictions = model.predict(inputs)\n",
        "    pitch_logits = predictions['pitch']\n",
        "    step = predictions['step']\n",
        "    duration = predictions['duration']\n",
        "  \n",
        "    pitch_logits /= temperature\n",
        "    pitch = tf.random.categorical(pitch_logits, num_samples=1)\n",
        "    pitch = tf.squeeze(pitch, axis=-1)\n",
        "    duration = tf.squeeze(duration, axis=-1)\n",
        "    step = tf.squeeze(step, axis=-1)\n",
        "\n",
        "    # `step` and `duration` values should be non-negative\n",
        "    step = tf.maximum(0, step)\n",
        "    duration = tf.maximum(0, duration)\n",
        "\n",
        "    return int(pitch), float(step), float(duration)\n",
        "  "
      ],
      "metadata": {
        "id": "8D6OrBqWp9bO"
      },
      "execution_count": null,
      "outputs": []
    },
    {
      "cell_type": "code",
      "source": [
        "all_notes = []\n",
        "for file_ in glob.glob(\"/content/drive/MyDrive/ai/project/project/tschai/*.mid\"):\n",
        "  notes = midi_to_notes(file_)\n",
        "  all_notes.append(notes)\n",
        "\n",
        "all_notes = pd.concat(all_notes)\n",
        "\n",
        "key_order = ['pitch', 'step', 'duration']\n",
        "train_notes = np.stack([all_notes[key] for key in key_order], axis=1)\n",
        "notes_ds = tf.data.Dataset.from_tensor_slices(train_notes)\n"
      ],
      "metadata": {
        "id": "zWUdLj9UsyW8"
      },
      "execution_count": null,
      "outputs": []
    },
    {
      "cell_type": "code",
      "source": [
        "def create_training_dataset(sequence_length):\n",
        "    vocab_size = 128\n",
        "    seq_ds = create_sequences(notes_ds, sequence_length, vocab_size)\n",
        "\n",
        "    train_ds = (seq_ds\n",
        "                .shuffle(len(all_notes) - sequence_length)\n",
        "                .batch(64, drop_remainder=True)\n",
        "                .cache()\n",
        "                .prefetch(tf.data.experimental.AUTOTUNE))\n",
        "    return train_ds\n",
        "\n",
        "\n",
        "sequence_length = 100\n",
        "train_ds = create_training_dataset(sequence_length)"
      ],
      "metadata": {
        "id": "83PFGVGMtKma"
      },
      "execution_count": null,
      "outputs": []
    },
    {
      "cell_type": "code",
      "source": [
        "def mse_with_positive_pressure(y_true: tf.Tensor, y_pred: tf.Tensor):\n",
        "  mse = (y_true - y_pred) ** 2\n",
        "  positive_pressure = 10 * tf.maximum(-y_pred, 0.0)\n",
        "  return tf.reduce_mean(mse + positive_pressure)"
      ],
      "metadata": {
        "id": "MVPddc8btwdT"
      },
      "execution_count": null,
      "outputs": []
    },
    {
      "cell_type": "code",
      "source": [
        "def define_the_3D_sequence_model(seq_length):\n",
        "  input_shape = (seq_length, 3)\n",
        "  learning_rate = 0.005\n",
        "\n",
        "  inputs = tf.keras.Input(input_shape)\n",
        "  x = Sequential(\n",
        "      [LSTM(128, return_sequences=True), Dropout(0.2), LSTM(128), Dense(128)]\n",
        "  )(inputs)\n",
        "\n",
        "  outputs = {\n",
        "    'pitch': Dense(128, name='pitch')(x),\n",
        "    'step': Dense(1, name='step')(x),\n",
        "    'duration': Dense(1, name='duration')(x),\n",
        "  }\n",
        "\n",
        "  model = tf.keras.Model(inputs, outputs)\n",
        "\n",
        "  loss = {\n",
        "        'pitch': tf.keras.losses.SparseCategoricalCrossentropy(\n",
        "            from_logits=True),\n",
        "        'step': mse_with_positive_pressure,\n",
        "        'duration': mse_with_positive_pressure,\n",
        "  }\n",
        "\n",
        "  optimizer = tf.keras.optimizers.Adam(learning_rate=learning_rate)\n",
        "\n",
        "  model.compile(loss=loss, optimizer=optimizer)\n",
        "  model.summary()\n",
        "  return model\n"
      ],
      "metadata": {
        "id": "MF6uxKffyB3H"
      },
      "execution_count": null,
      "outputs": []
    },
    {
      "cell_type": "code",
      "source": [
        "filepath = \"./checkpoints/movie_osts/test/weights-improvement-{epoch:02d}-{loss:.4f}-bigger.hdf5\"\n",
        "checkpoint = ModelCheckpoint(\n",
        "    filepath, monitor='loss', \n",
        "    verbose=0,        \n",
        "    save_best_only=True,        \n",
        "    mode='min'\n",
        ")    \n",
        "callbacks_list = [checkpoint]     \n",
        "\n",
        "%%time\n",
        "epochs = 100\n",
        "model = define_the_3D_sequence_model(100)\n",
        "history = model.fit(\n",
        "    train_ds,\n",
        "    epochs=epochs,\n",
        "    callbacks=callbacks,\n",
        ")"
      ],
      "metadata": {
        "id": "PC-CkS-4ykcF"
      },
      "execution_count": null,
      "outputs": []
    },
    {
      "cell_type": "code",
      "source": [
        "plt.plot(history.epoch, history.history['loss'], label='total loss')\n",
        "plt.show()"
      ],
      "metadata": {
        "id": "N40NxpGny5XV"
      },
      "execution_count": null,
      "outputs": []
    },
    {
      "cell_type": "code",
      "source": [
        "def create_output(start_):\n",
        "\n",
        "    start_ = \"/content/drive/MyDrive/ai/project/project/tschai/ty_april.mid\"\n",
        "    pm = pretty_midi.PrettyMIDI(start_)\n",
        "    instrument = pm.instruments[0]\n",
        "    instrument_name = pretty_midi.program_to_instrument_name(instrument.program)\n",
        "\n",
        "    raw_notes = midi_to_notes(sample_file)\n",
        "\n",
        "    num_predictions = 500\n",
        "\n",
        "    sample_notes = np.stack([raw_notes[key] for key in key_order], axis=1)\n",
        "\n",
        "    # The initial sequence of notes; pitch is normalized similar to training\n",
        "    # sequences\n",
        "    input_notes = (\n",
        "        sample_notes[:seq_length] / np.array([vocab_size, 1, 1]))\n",
        "\n",
        "    generated_notes = []\n",
        "    prev_start = 0\n",
        "    for _ in range(num_predictions):\n",
        "      pitch, step, duration = predict_next_note(input_notes, model, 1.0)\n",
        "      # duration += np.random.random()\n",
        "      start = prev_start + step\n",
        "      end = start + duration\n",
        "      input_note = (pitch, step, duration)\n",
        "      generated_notes.append((*input_note, start, end))\n",
        "      input_notes = np.delete(input_notes, 0, axis=0)\n",
        "      input_notes = np.append(input_notes, np.expand_dims(input_note, 0), axis=0)\n",
        "      prev_start = start\n",
        "\n",
        "    generated_notes = pd.DataFrame(\n",
        "        generated_notes, columns=(*key_order, 'start', 'end'))\n",
        "\n",
        "\n",
        "    out_file = 'output.mid'\n",
        "    out_pm = notes_to_midi(\n",
        "        generated_notes, out_file=out_file, instrument_name='Acoustic Grand Piano')\n",
        "\n",
        "    from google.colab import files\n",
        "    files.download(out_file)"
      ],
      "metadata": {
        "id": "zs0iXPNT0Zah"
      },
      "execution_count": null,
      "outputs": []
    }
  ]
}